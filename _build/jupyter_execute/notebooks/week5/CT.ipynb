{
 "cells": [
  {
   "cell_type": "markdown",
   "metadata": {
    "id": "DnWcYWyTERem"
   },
   "source": [
    "# Control Theory"
   ]
  },
  {
   "cell_type": "markdown",
   "metadata": {
    "id": "i18gUQjlHAzv"
   },
   "source": [
    "Control theory is a discipline ...\n",
    "\n",
    "Classical control theory... \n",
    "Optimal control theory...\n",
    "\n",
    "<br>\n",
    "<br>\n",
    "<div align=\"center\">\n",
    "<p style=\"text-align:center;\"><img src=\"https://engineeringmedia.com/s/Control_Map_ver5.png\" width=\"600\"/>\n",
    "</div>"
   ]
  },
  {
   "cell_type": "markdown",
   "metadata": {
    "id": "U2Wt95obKpgD"
   },
   "source": [
    "## Basic control theory concepts\n",
    "\n",
    "\n",
    "### Transfer function\n",
    "\n",
    "...\n",
    "\n",
    "#### Closed-loop transfer function\n",
    "\n",
    "\n",
    "### Feedback control\n",
    "\n",
    "..\n",
    "\n",
    "### Linear vs nonlinear control theory\n",
    "\n",
    "...\n"
   ]
  }
 ],
 "metadata": {
  "colab": {
   "collapsed_sections": [],
   "name": "week5.ipynb",
   "provenance": []
  },
  "kernelspec": {
   "display_name": "Python 3.9.13 ('p39')",
   "language": "python",
   "name": "python3"
  },
  "language_info": {
   "codemirror_mode": {
    "name": "ipython",
    "version": 3
   },
   "file_extension": ".py",
   "mimetype": "text/x-python",
   "name": "python",
   "nbconvert_exporter": "python",
   "pygments_lexer": "ipython3",
   "version": "3.9.13"
  },
  "vscode": {
   "interpreter": {
    "hash": "62d00359d1e751dd3472fbb575f10dfe4a2217e28c8573ed8a15de19674dd853"
   }
  }
 },
 "nbformat": 4,
 "nbformat_minor": 0
}