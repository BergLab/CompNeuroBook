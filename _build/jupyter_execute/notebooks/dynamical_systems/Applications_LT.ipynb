{
 "cells": [
  {
   "cell_type": "markdown",
   "metadata": {},
   "source": [
    "# Dynamical systems as Linear Transformations"
   ]
  },
  {
   "attachments": {},
   "cell_type": "markdown",
   "metadata": {},
   "source": [
    "***Credit**: [Ben Vanderlei's Jupyter Guide to Linear Algebra](https://bvanderlei.github.io/jupyter-guide-to-linear-algebra/) under CC BY 4.0 with minor adaptations.*"
   ]
  },
  {
   "cell_type": "markdown",
   "metadata": {},
   "source": [
    "### Discrete dynamical systems"
   ]
  },
  {
   "cell_type": "markdown",
   "metadata": {},
   "source": [
    "In week 1 we learnt the basics of algebra, now we are going to see how these concepts we learn such vector, matrix or eigenvalues can be useful to study dynamical systems. Giving us a complentary view to that of differential equations.\n",
    "\n",
    "It is often useful to describe a structure that has multiple components with a single vector.  If that structure is changing in time due to some process, it is typical to refer to the vector as a **state vector** since it describes the *state* of the structure at some particular time. To be less abstract, an example would be if you want to quantify the concentration of different neurotransmitters in a synaptic cleft: you could represent the concentration of each of them as a value in a vector. Equivalently, if you are studying the movement of an animal, you could represent the position of each of animal joint as value in the vector so you can track its movement during an experiment.\n",
    "\n",
    "It is quite common to model such dynamic processes at discrete times and use linear transformations to model the evolution of the state vector from one time to the next.\n",
    "\n",
    "Let's suppose that we aim to describe sequence of vectors at times $t=0, 1, 2, 3,$... with state vectors $X_0$, $X_1$, $X_2$, $X_3$.... at those times.  We propose to calculate the state vector $X_t$ based only on the previous state vector $X_{t-1}$.  If we model the transition from $X_{t-1}$ to $X_t$ with a linear transformation, then there is a matrix such that $X_t = AX_{t-1}$.  This sort of model is known as a **discrete dynamical system** and is used in many areas from economics to biology.\n",
    "Although the underlying phenomena —eg. the movement of the animal articulations or chemical concentrations— may change continuously, any experimental measures will always be discrete and hence we need discrete models."
   ]
  },
  {
   "cell_type": "markdown",
   "metadata": {},
   "source": [
    "#### Infectious Disease Model\n",
    "\n",
    "In this example we consider a basic model of an infectious disease that is spreading within a population.  A well known family of models for this scenario is known as the $SIR$ models.  The acronym comes from a basic modeling assumption that the population is divided into three categories: Susceptible, Infectious, and Recovered.  As the disease, spreads a portion of the Susceptible individuals become Infectious, and a portion of Infectious individuals become Recovered.  We will consider a small variation in the model which assumes that a portion of Recovered individuals return to the Susceptible category.  This variation, known as an $SIRS$ model, would be a more accurate description of a disease which can be contracted multiple times.\n",
    "\n",
    "We suppose that the population is completely homogeneous in all regards, so that all individuals in a given category have the same probabilities to move to the next category.\n",
    "\n",
    "To model real-world epidemics, it is necessary to estimate some parameters that specify how quickly individuals move among the categories.  These parameters will be important in making any predictions with the model.  For our demonstration, we will create an example.  Let us suppose that our state vectors describe the population at time intervals of 1 week, and that every week, 5% of the Susceptible population becomes Infectious, and 20% of the Infectious population becomes Recovered.  We also suppose that 15% of the Recovered population again becomes Susceptible every week.\n",
    "\n",
    "If we let $s_t$, $i_t$, and $r_t$ represent the percentage of the three categories of the population at time $t$, we can write equations based on the modeling assumptions that allows us to calculate the values based on $s_{t-1}$, $i_{t-1}$, and $r_{t-1}$"
   ]
  },
  {
   "cell_type": "markdown",
   "metadata": {},
   "source": [
    "$$\n",
    "\\begin{eqnarray}\n",
    "s_t & = & 0.95s_{t-1} \\hspace{2cm} + 0.15r_{t-1} \\\\\n",
    "i_t & = & 0.05s_{t-1}  + 0.80i_{t-1} \\\\\n",
    "r_t & = & \\hspace{2cm} 0.20i_{t-1} + 0.85r_{t-1} \n",
    "\\end{eqnarray}\n",
    "$$\n",
    "\n",
    "Notice that since the numbers represent percentage, each column must add up to 1.\n",
    "\n",
    "Now we can define $X_t$ as the vector with components $s_t$, $i_t$, and $r_t$, so that the equations can be written using matrix multiplication.\n",
    "\n",
    "$$\n",
    "\\begin{equation}\n",
    "X_t = \\left[ \\begin{array}{r} s_t \\\\ i_t \\\\ r_t  \\end{array}\\right] =\n",
    "\\left[ \\begin{array}{rrr} 0.95 & 0 & 0.15 \\\\ 0.05 & 0.80 & 0 \\\\ 0 & 0.20 & 0.85 \\end{array}\\right]\n",
    "\\left[ \\begin{array}{r} s_{t-1} \\\\ i_{t-1} \\\\ r_{t-1}  \\end{array}\\right]=\n",
    "AX_{t-1}\n",
    "\\end{equation}\n",
    "$$\n",
    "\n",
    "The linear transformation $L:\\mathbb{R}^3 \\to \\mathbb{R}^3$ defined by this matrix multiplication maps the state of the \n",
    "population at time $t-1$, to the state of the population at time $t$.  For an example let's label the initial state vector $X_0$, and consider what happens if initially 5% of the population is infective, and the other 95% of the population is susceptible. \n",
    "\n",
    "$$\n",
    "\\begin{equation}\n",
    "X_0 = \\left[ \\begin{array}{r} 0.95 \\\\ 0.05 \\\\ 0  \\end{array}\\right] \n",
    "\\end{equation}\n",
    "$$\n",
    "\n",
    "We compute $X_1 = AX_0$."
   ]
  },
  {
   "cell_type": "code",
   "execution_count": 1,
   "metadata": {},
   "outputs": [
    {
     "name": "stdout",
     "output_type": "stream",
     "text": [
      "[[0.9025]\n",
      " [0.0875]\n",
      " [0.01  ]]\n"
     ]
    }
   ],
   "source": [
    "import numpy as np\n",
    "A = np.array([[0.95, 0, 0.15],[0.05,0.8,0],[0,0.2,0.85]])\n",
    "\n",
    "## X at time 0\n",
    "X_0 = np.array([[0.95],[0.05],[0]])\n",
    "\n",
    "## Compute X at the next time\n",
    "X_1 = A@X_0\n",
    "\n",
    "print(X_1)"
   ]
  },
  {
   "cell_type": "markdown",
   "metadata": {},
   "source": [
    "Applying the transformation again gives $X_2 = AX_1 = A^2X_0$, the state of the population at time $t=2$.  The unit of time in this case is a week, since this is how we have defined the units in the values of the $A$ matrix. In general, $n$ repeated applications of the transformation yield $X_n = A^nX_0$, the state of the population $n$ weeks into the future.  Let's compute $X_{50}$ as an example."
   ]
  },
  {
   "cell_type": "code",
   "execution_count": 2,
   "metadata": {},
   "outputs": [
    {
     "name": "stdout",
     "output_type": "stream",
     "text": [
      "[[0.63157999]\n",
      " [0.15789071]\n",
      " [0.2105293 ]]\n"
     ]
    }
   ],
   "source": [
    "## X at time 0\n",
    "X = np.array([[0.95],[0.05],[0]])\n",
    "\n",
    "for t in range(50):\n",
    "    X = A@X\n",
    "    \n",
    "print(X)"
   ]
  },
  {
   "cell_type": "markdown",
   "metadata": {},
   "source": [
    "In such models attention is typically focused on the ultimate behavior of the state vector.  We want to know if the composition of the population reaches an equilibrium, or continues to change. Let's have a visual look at the model behavior:"
   ]
  },
  {
   "cell_type": "markdown",
   "metadata": {},
   "source": [
    "### **Exercises**\n",
    "\n",
    "- Make a plot the evolution over time of the susceptible-infected-recovered population. Hint: you will have to create a list variable to store the values of each group over time and then apply the matrix $A$ to the initial state vector $X_{0}$ like we did in the previous code cell.\n",
    "- Label the axes of the plot and add a legend."
   ]
  },
  {
   "cell_type": "code",
   "execution_count": 3,
   "metadata": {},
   "outputs": [],
   "source": [
    "import matplotlib.pyplot as plt\n",
    "import numpy as np\n",
    "\n",
    "## Your code here"
   ]
  },
  {
   "cell_type": "markdown",
   "metadata": {},
   "source": [
    "### Infectious disease model - Continuation\n",
    "\n",
    "The notions of eigenvalues and eigenvectors that we have talked about in the previous notebook can be very useful to study the dynamical systems like the spread of a virus in the SIR model:\n",
    "\n",
    "For the $SIRS$ model of infectious disease, we had the following discrete dynamical system.\n",
    "\n",
    "\n",
    "$$\n",
    "\\begin{equation}\n",
    "X_t = \\left[ \\begin{array}{r} s_t \\\\ i_t \\\\ r_t  \\end{array}\\right] =\n",
    "\\left[ \\begin{array}{rrr} 0.95 & 0 & 0.15 \\\\ 0.05 & 0.80 & 0 \\\\ 0 & 0.20 & 0.85 \\end{array}\\right]\n",
    "\\left[ \\begin{array}{r} s_{t-1} \\\\ i_{t-1} \\\\ r_{t-1}  \\end{array}\\right]=\n",
    "AX_{t-1}\n",
    "\\end{equation}\n",
    "$$\n",
    "\n",
    "Given an initial condition $X_0$, we know that $X_n = A^nX_0$.  We are interested in determining the behavior of the system for large $n$ where represent the number of timesteps, in our case weeks. What is the connection with eigenvectors? The sequence of vectors produced should tend toward the eigenvector corresponding to the largest eigenvalue. If you think about it, this is an amazing result. It means that by simply computing the largest eigenvector from the matrix $A$ that we use to define our dynamical system, we can predict what the final state of the system will be! 🤯\n",
    "\n",
    "In this case the components of the vector have individual meaning, so let's calculate the first 30 iterations and plot $s_t$, $i_t$, and $r_t$ to get a sense of how they are changing over 30 weeks.  For this calculation we store each vector $X_t$ as a column in an array named $\\texttt{results}$. "
   ]
  },
  {
   "cell_type": "code",
   "execution_count": 4,
   "metadata": {},
   "outputs": [
    {
     "data": {
      "image/png": "[encoded data removed]",
      "text/plain": [
       "<Figure size 1152x864 with 1 Axes>"
      ]
     },
     "metadata": {
      "filenames": {
       "image/png": "/Users/enaj/SUND/CompNeuroBook/_build/jupyter_execute/notebooks/dynamical_systems/Applications_LT_13_0.png"
      },
      "needs_background": "light"
     },
     "output_type": "display_data"
    }
   ],
   "source": [
    "import matplotlib.pyplot as plt\n",
    "import numpy as np\n",
    "%matplotlib inline\n",
    "\n",
    "A = np.array([[0.95, 0, 0.15],[0.05,0.8,0],[0,0.2,0.85]])\n",
    "\n",
    "## T is final time\n",
    "T = 20\n",
    "## X at time 0\n",
    "X = np.array([[0.95],[0.05],[0]])\n",
    "\n",
    "## The first column of results contains the initial values \n",
    "results = np.copy(X)\n",
    "\n",
    "for i in range(T):\n",
    "    X = A@X\n",
    "    results = np.hstack((results,X))\n",
    "\n",
    "## t contains the time indices 0, 1, 2, ..., T\n",
    "t = np.linspace(0,T,T+1)\n",
    "## s, i, r values are the rows of the results array\n",
    "s = results[0,:]\n",
    "i = results[1,:]\n",
    "r = results[2,:]\n",
    "\n",
    "fig,ax = plt.subplots(figsize=(16, 12))\n",
    "\n",
    "## The optional label keyword argument provides text that is used to create a legend\n",
    "ax.plot(t,s,'b+',label=\"Susceptible\");\n",
    "ax.plot(t,i,'rx',label=\"Infective\");\n",
    "ax.plot(t,r,'g+',label=\"Removed\");\n",
    "\n",
    "ax.set_ylim(0,1.1)\n",
    "ax.grid(True)\n",
    "ax.legend();"
   ]
  },
  {
   "cell_type": "markdown",
   "metadata": {},
   "source": [
    "Based on the calculation it appears that the state of the population has reached an *equilibrium* after 20 weeks.  In the equilibrium state, each category of the population, $S$, $I$, and $R$, have as many individuals entering the category as leaving it.  In terms of the matrix equation, if $X$ is the vector that contains the equilibrium values of $s_t$, $i_t$, and $r_t$, then $X$ must be a solution to the equation $AX=X$, since $X_{t-1}=X_t$ when the components not changing.  The equation $AX=X$ implies that $X$ is an eigenvector of $A$ corresponding to an eigenvalue of one. If you remember the geometrical interpretation of a matrix as a linear transformation in [3Blue1Brown eigenvectors and eigenvalues video](https://www.youtube.com/watch?v=PFDu9oVAE-g), the eigenvectors are the vectors who experience scaling by a factor of its eigenvalue but do not experience any change of direction. In other words, if we have a vector $X$ that verifies $AX=X$, that vector $X$ is an eigenvector of $A$ with a corresponding eigenvalue $1$. That means that applying the matrix $A$ —which we can see as a geometrical transformation— does not affect the vector at all. This is why if we find an vector $X$ that verifies $AX=X$, we know the values of $X$ are an equilibrium point of the system!\n",
    "\n",
    "The equation $AX=X$ represents a linear system, even though it is not written in the typical form.  We can rearrange it to look more familiar by using the tools of matrix algebra.  The key is to recognize that $X$ can be written as $IX$, where $I$ is the identity matrix.  This gives $AX=IX$, which can be rewritten as $(A-I)X = 0$.  This matrix equation is the type with which we have been working throughout the previous chapters.\n",
    "\n",
    "Before attempting to solve the system $(A-I)X = 0$, we first recognize it as a Homogeneous Systems and apply some reasoning based on our knowledge of linear systems.  We know that the solution set of a homogeneous system certainly contains the trivial solution $X=0$.  Therefore if there is also a nonzero solution to $(A-I)X=0$, the system must have an infinite number of solutions since linear systems always have zero, exactly one, or an infinite number of solutions.  If the system $(A-I)X=0$ does not have a unique solution there must be a free variable.\n",
    "\n",
    "\n"
   ]
  },
  {
   "cell_type": "markdown",
   "metadata": {},
   "source": [
    "Notice that in our case the matrix is singular, meaning that its determinant is zero and hence it doesn't have an inverse:"
   ]
  },
  {
   "cell_type": "code",
   "execution_count": 5,
   "metadata": {},
   "outputs": [
    {
     "name": "stdout",
     "output_type": "stream",
     "text": [
      "Determinant of A: -1.040834085586084e-18\n"
     ]
    }
   ],
   "source": [
    "from scipy import linalg\n",
    "AminusI = A - np.identity(3)\n",
    "print(f\"Determinant of A: {linalg.det(AminusI)}\")"
   ]
  },
  {
   "cell_type": "markdown",
   "metadata": {},
   "source": [
    "Notice that -1e-18 is the scientific notation for the number 0.0000000000000000018\n",
    "\n",
    "This is why the values for the inverse matrix are effectively infinity:"
   ]
  },
  {
   "cell_type": "code",
   "execution_count": 6,
   "metadata": {},
   "outputs": [
    {
     "name": "stdout",
     "output_type": "stream",
     "text": [
      "Inverse matrix of A:\n",
      "\n",
      "[[-2.16172782e+16 -2.16172782e+16 -2.16172782e+16]\n",
      " [-5.40431955e+15 -5.40431955e+15 -5.40431955e+15]\n",
      " [-7.20575940e+15 -7.20575940e+15 -7.20575940e+15]]\n"
     ]
    }
   ],
   "source": [
    "print('Inverse matrix of A:\\n')\n",
    "print(linalg.inv(AminusI))"
   ]
  },
  {
   "cell_type": "markdown",
   "metadata": {},
   "source": [
    "Again, notices that the number 1e15 is 10000000000000000\n",
    "\n",
    "This means that the system doesn't have an unique solution, therefore it can either have none or infinite. Since we know there is at least the trivial solution $x={0,0,0}$, there must be an infinite amount of solution. If we want to find the equilibrium point of the system we will have to add additional constraints. We know for instance that the sum of the susceptible + infected + recovered must be equal to 1. "
   ]
  },
  {
   "cell_type": "markdown",
   "metadata": {},
   "source": [
    "### **Exercises**\n",
    "\n",
    "- Use [Scipy linalg.eig() function](https://docs.scipy.org/doc/scipy/reference/generated/scipy.linalg.eig.html) to compute the eigenvalues and eigenvectors of the matrix $A$:"
   ]
  },
  {
   "cell_type": "code",
   "execution_count": 7,
   "metadata": {},
   "outputs": [
    {
     "ename": "SyntaxError",
     "evalue": "invalid syntax (743812329.py, line 5)",
     "output_type": "error",
     "traceback": [
      "\u001b[0;36m  Input \u001b[0;32mIn [7]\u001b[0;36m\u001b[0m\n\u001b[0;31m    eigenvalues, eigenvectors = ## Your code here\u001b[0m\n\u001b[0m                                ^\u001b[0m\n\u001b[0;31mSyntaxError\u001b[0m\u001b[0;31m:\u001b[0m invalid syntax\n"
     ]
    }
   ],
   "source": [
    "from scipy.linalg import eig\n",
    "\n",
    "A = np.array([[0.95, 0, 0.15],[0.05,0.8,0],[0,0.2,0.85]])\n",
    "\n",
    "eigenvalues, eigenvectors = ## Your code here"
   ]
  },
  {
   "cell_type": "markdown",
   "metadata": {},
   "source": [
    "- By default, eigenvectors are complex numbers, we can simply extract the real part by appending `.real` to an array. "
   ]
  },
  {
   "cell_type": "code",
   "execution_count": null,
   "metadata": {},
   "outputs": [],
   "source": [
    "eigenvalues = eigenvalues.real\n",
    "eigenvectors = eigenvectors.real\n",
    "print(eigenvalues)\n",
    "print('\\n')\n",
    "print(eigenvectors)"
   ]
  },
  {
   "cell_type": "markdown",
   "metadata": {},
   "source": [
    "- Look for the eigenvector associated to the eigenvalue with the biggest real part and put in a variable as a numpy array:"
   ]
  },
  {
   "cell_type": "code",
   "execution_count": null,
   "metadata": {},
   "outputs": [],
   "source": [
    "eigenvector = ## Your code here\n",
    "print(eigenvector)"
   ]
  },
  {
   "cell_type": "markdown",
   "metadata": {},
   "source": [
    "Finally, we will need to impose the constraint on the found values that the sum of the the susceptible + infected + recovered individuals must be 1. We can do so by simply dividing the length of the vector: "
   ]
  },
  {
   "cell_type": "code",
   "execution_count": null,
   "metadata": {},
   "outputs": [],
   "source": [
    "normalised_eigenvector = eigenvector / np.linalg.norm(eigenvector, ord=1)\n",
    "print(abs(normalised_eigenvector))"
   ]
  },
  {
   "cell_type": "markdown",
   "metadata": {},
   "source": [
    "- Finally! We now have a vector that verifies $AX=X$, that is, a state of the system which is not changing anymore. Compare the values you just obtained with those you found by simulating the system for a finite number of steps. How do they relate? "
   ]
  },
  {
   "cell_type": "code",
   "execution_count": null,
   "metadata": {},
   "outputs": [],
   "source": [
    "## Nothing to code, discuss with your group :)"
   ]
  },
  {
   "cell_type": "markdown",
   "metadata": {},
   "source": [
    "#### Simulation approach to finding equilibrium points\n",
    "\n",
    "- Look at the equilibrium values that you obtained on your simulated SIRS model, write them as a state vector $X$ using a numpy array and verify that this state vector is indeed a eigenvector of the system by verifying that $A@X = X$"
   ]
  },
  {
   "cell_type": "code",
   "execution_count": null,
   "metadata": {},
   "outputs": [],
   "source": [
    "## Your code here"
   ]
  },
  {
   "cell_type": "markdown",
   "metadata": {},
   "source": [
    "- Experiment with a range of initial conditions in the infectious disease model to provide evidence that an equilibrium state is reached for all meaningful initial states. "
   ]
  },
  {
   "cell_type": "code",
   "execution_count": null,
   "metadata": {},
   "outputs": [],
   "source": [
    "## Code solution here."
   ]
  },
  {
   "cell_type": "markdown",
   "metadata": {},
   "source": [
    "- Perform an analysis similar to the that in the example for the following infectious disease model.  In this model the rate at which individuals move from the Recovered category to the Susceptible category is less than that in the example.  Make a plot similar to that in the example and compute the theoretical equilibrium values for $s$, $i$, and $r$. Compare the results obtained with both approaches.\n",
    "\n",
    "$$\n",
    "\\begin{equation}\n",
    "X_t = \\left[ \\begin{array}{r} s_t \\\\ i_t \\\\ r_t  \\end{array}\\right] =\n",
    "\\left[ \\begin{array}{rrr} 0.95 & 0 & 0.05 \\\\ 0.05 & 0.80 & 0 \\\\ 0 & 0.20 & 0.95 \\end{array}\\right]\n",
    "\\left[ \\begin{array}{r} s_{t-1} \\\\ i_{t-1} \\\\ r_{t-1}  \\end{array}\\right]=\n",
    "AX_{t-1}\n",
    "\\end{equation}\n",
    "$$"
   ]
  },
  {
   "cell_type": "code",
   "execution_count": null,
   "metadata": {},
   "outputs": [],
   "source": [
    "## Code solution here"
   ]
  }
 ],
 "metadata": {
  "celltoolbar": "Edit Metadata",
  "kernelspec": {
   "display_name": "Python 3 (ipykernel)",
   "language": "python",
   "name": "python3"
  },
  "language_info": {
   "codemirror_mode": {
    "name": "ipython",
    "version": 3
   },
   "file_extension": ".py",
   "mimetype": "text/x-python",
   "name": "python",
   "nbconvert_exporter": "python",
   "pygments_lexer": "ipython3",
   "version": "3.9.16"
  },
  "vscode": {
   "interpreter": {
    "hash": "62d00359d1e751dd3472fbb575f10dfe4a2217e28c8573ed8a15de19674dd853"
   }
  }
 },
 "nbformat": 4,
 "nbformat_minor": 4
}