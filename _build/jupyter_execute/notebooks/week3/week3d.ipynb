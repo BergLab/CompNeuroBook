{
 "cells": [
  {
   "cell_type": "markdown",
   "metadata": {},
   "source": [
    "# Introduction to Brian part 4: Build your own simulation\n",
    "\n",
    "Now you are ready to build and simulate any neural population that you can conceive. \n",
    "Your goal in this exercies is simply design, simulate and study a population of neurons.\n",
    "\n",
    "Start by designing a population of neurons by choosing the following parameters:\n",
    "\n",
    "### Topics covered on week1a\n",
    "\n",
    "- [ ] Number of neurons in the populations\n",
    "- [ ] Type of neurons: excitatory, inhibitory.. how many of each?\n",
    "- [ ] Connectivity: all connected? random connectivity?\n",
    "\n",
    "Then implement it with Brian re-using section of code from the previous notebooks.\n",
    "\n",
    "As before we start by importing the Brian package and setting up matplotlib for IPython:"
   ]
  },
  {
   "cell_type": "markdown",
   "metadata": {},
   "source": [
    "As always, we start by importing the functions from brian library:"
   ]
  },
  {
   "cell_type": "code",
   "execution_count": 1,
   "metadata": {
    "collapsed": true
   },
   "outputs": [
    {
     "name": "stdout",
     "output_type": "stream",
     "text": [
      "Requirement already satisfied: brian2 in /Users/enaj/.virtualenvs/p39/lib/python3.9/site-packages (2.5.1)\r\n",
      "Requirement already satisfied: pyparsing in /Users/enaj/.virtualenvs/p39/lib/python3.9/site-packages (from brian2) (3.0.7)\r\n",
      "Requirement already satisfied: numpy>=1.17 in /Users/enaj/.virtualenvs/p39/lib/python3.9/site-packages (from brian2) (1.22.0)\r\n",
      "Requirement already satisfied: jinja2>=2.7 in /Users/enaj/.virtualenvs/p39/lib/python3.9/site-packages (from brian2) (3.1.2)\r\n",
      "Requirement already satisfied: cython>=0.29 in /Users/enaj/.virtualenvs/p39/lib/python3.9/site-packages (from brian2) (0.29.30)\r\n",
      "Requirement already satisfied: setuptools>=24.2 in /Users/enaj/.virtualenvs/p39/lib/python3.9/site-packages (from brian2) (60.10.0)\r\n",
      "Requirement already satisfied: sympy>=1.2 in /Users/enaj/.virtualenvs/p39/lib/python3.9/site-packages (from brian2) (1.10.1)\r\n",
      "Requirement already satisfied: MarkupSafe>=2.0 in /Users/enaj/.virtualenvs/p39/lib/python3.9/site-packages (from jinja2>=2.7->brian2) (2.1.1)\r\n",
      "Requirement already satisfied: mpmath>=0.19 in /Users/enaj/.virtualenvs/p39/lib/python3.9/site-packages (from sympy>=1.2->brian2) (1.2.1)\r\n"
     ]
    },
    {
     "name": "stdout",
     "output_type": "stream",
     "text": [
      "\u001b[33mWARNING: You are using pip version 22.0.4; however, version 22.3.1 is available.\r\n",
      "You should consider upgrading via the '/Users/enaj/.virtualenvs/p39/bin/python3.9 -m pip install --upgrade pip' command.\u001b[0m\u001b[33m\r\n",
      "\u001b[0m"
     ]
    }
   ],
   "source": [
    "!pip3 install brian2\n",
    "from brian2 import *\n",
    "%matplotlib inline"
   ]
  },
  {
   "cell_type": "code",
   "execution_count": null,
   "metadata": {},
   "outputs": [],
   "source": []
  },
  {
   "cell_type": "markdown",
   "metadata": {},
   "source": [
    "## Interactive exploration\n",
    "\n",
    "Colabs have a form feature which allows you to create interactive plots:\n",
    "(If you're using jupyer notebooks rather than Colab, you can use [Ipython widgets](https://ipywidgets.readthedocs.io/en/latest/examples/Using%20Interact.html))"
   ]
  },
  {
   "cell_type": "code",
   "execution_count": 2,
   "metadata": {},
   "outputs": [],
   "source": [
    "#@title Default title text { run: \"auto\", vertical-output: true }\n",
    "populationSize = 1000 #@param {type:\"slider\", min:0, max:1000, step:1}"
   ]
  }
 ],
 "metadata": {
  "hide_input": false,
  "kernelspec": {
   "display_name": "Python 3.9.13 ('p39')",
   "language": "python",
   "name": "python3"
  },
  "language_info": {
   "codemirror_mode": {
    "name": "ipython",
    "version": 3
   },
   "file_extension": ".py",
   "mimetype": "text/x-python",
   "name": "python",
   "nbconvert_exporter": "python",
   "pygments_lexer": "ipython3",
   "version": "3.9.13"
  },
  "vscode": {
   "interpreter": {
    "hash": "62d00359d1e751dd3472fbb575f10dfe4a2217e28c8573ed8a15de19674dd853"
   }
  }
 },
 "nbformat": 4,
 "nbformat_minor": 2
}