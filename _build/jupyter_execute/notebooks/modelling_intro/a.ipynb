{
 "cells": [
  {
   "attachments": {},
   "cell_type": "markdown",
   "metadata": {
    "id": "YfVxAdOoGZHC"
   },
   "source": [
    "# What is computational neuroscience?\n",
    "\n",
    "The question is similar to asking \"What is neuroscience?\". This question can be answered as something like, \"the scientific study of the nervous system\"  [Wikipedia](https://en.wikipedia.org/wiki/Neuroscience). However, neuroscience is many things. It is multidisciplinary with many branches. Similarly, computational neuroscience is multidisciplinary. It is a subset of branches within neuroscience. Wikipedia defines it in the following way: \n",
    "\n",
    "\n",
    "\n"
   ]
  },
  {
   "attachments": {},
   "cell_type": "markdown",
   "metadata": {},
   "source": [
    "Wikipedia: [Computational Neuroscience](https://en.wikipedia.org/wiki/Computational_neuroscience):\n",
    "\n",
    "    Computational neuroscience (also known as theoretical neuroscience or mathematical neuroscience) is a branch of neuroscience which employs mathematical models, theoretical analysis and abstractions of the brain to understand the principles that govern the development, structure, physiology and cognitive abilities of the nervous system.\n",
    "    Computational neuroscience employs computational simulations to validate and solve mathematical models, and so can be seen as a sub-field of theoretical neuroscience; however, the two fields are often synonymous. The term mathematical neuroscience is also used sometimes, to stress the quantitative nature of the field.\n",
    "\n",
    "Goal is to achieve and abstraction and understanding of neural systems: Ie. Develop a theory and understanding\n",
    "\n",
    "Another aspect: quantitative data analysis often hand in hand with computational neuroscience. "
   ]
  },
  {
   "attachments": {},
   "cell_type": "markdown",
   "metadata": {},
   "source": [
    "\n",
    "\n",
    "but most is not a new branch within neuroscience. "
   ]
  },
  {
   "attachments": {},
   "cell_type": "markdown",
   "metadata": {
    "id": "JyG45Qk3qQLS"
   },
   "source": [
    "## A scientific theory?\n",
    "The word \"theory\" has more than one meaning. How do we define A theory? First, it can mean a supposition or a system of ideas intended to explain something, especially one based on general principles independent of the thing to be explained. Examples are Darwin's theory of evolution ([Darwinism](https://en.wikipedia.org/wiki/Darwinism)) or Newton's [Theory of gravity](https://en.wikipedia.org/wiki/Gravity). Second, a set of principles on which the practice of an activity is based: \"a theory of education\" and \"music theory\". Third, an idea used to account for a situation or justify a course of action: \"my theory would be that the place has been seriously mismanaged\". The latter is closest what is often associated with a scientific theory. It can explain an observation and it can be rejected if it is wrong."
   ]
  },
  {
   "attachments": {},
   "cell_type": "markdown",
   "metadata": {
    "id": "KR921S_OQSHG"
   },
   "source": [
    "### A hypothesis: A theory should contain a set of hypothesis (or generate hypotheses)\n",
    "A proposed explanation made on the basis of limited evidence as a starting point for further investigation. In mathematics we prove theorems, in science we reject hypothesis. \n",
    "We can have hypothesis without a theory, but not vice versa.\n"
   ]
  },
  {
   "attachments": {},
   "cell_type": "markdown",
   "metadata": {
    "id": "UHLqgbt5ONP0"
   },
   "source": [
    "### Theory and models\n",
    "#### A model is an implementation of a theory. If can also be a realization of an aspect of the theory.\n",
    "\n",
    "<div align=\"center\">\n",
    "<p style=\"text-align:center;\"><img src=\"/Figures/theory_chairs\" width=\"600\"/>\n",
    "</div>\n",
    "\n",
    "<div align=\"center\">\n",
    "<p style=\"text-align:center;\"><img src=\"theory_chairs.png\" width=\"800\"/>\n",
    "</div>\n",
    "\n",
    "A realisation of a theory in the shape of a model is important, because it can test the validity of both the model and the theory. An experiment can be conducted to verify the model and compare with another realisation. Hence, experiments or a computer simulation can reject one model and favor another model. This will help refining the theory (red arrows, figure ?)\n",
    "\n",
    "<div align=\"center\">\n",
    "<p style=\"text-align:center;\"><img src=\"theory_models.png\" width=\"400\"/>\n",
    "</div>\n"
   ]
  },
  {
   "attachments": {},
   "cell_type": "markdown",
   "metadata": {
    "id": "Id6tDF1HQSHD"
   },
   "source": [
    "### Why is modelling important?\n",
    "* Aid in reasoning. Some phenomena can only be found when doing modeling. Especially in systems with many interacting parts (complex systems) and experiments only provide partial information.\n",
    "\n",
    "* Remove ambiguities - sharpening the theory - intuition may turn out to be wrong. Also a theory may mean different things to different people. A good theory should have as little interpretable material as possible.\n",
    "\n",
    "* Because experimental data is hard to get- models can replace it to some extent - and help develop a full understanding of a system. A good example is multi-compartmental models of neurons, which are now considered facts.\n",
    "\n",
    "* Computer power allows to quickly seek answers and effectively extend the range of experiments\n",
    "\n",
    "* Models can save time- rather than doing mindless experiments- especially important in the industry. Cohort size, medical dose, etc.\n",
    "\n",
    "* Inspiration for new experiments. Something doesn’t make sense, we need to develop a new theory/understanding. This is the essence of science!"
   ]
  },
  {
   "attachments": {},
   "cell_type": "markdown",
   "metadata": {},
   "source": [
    "Doing modelling also help us understand the often more complicated systems. It will help us move towards the right in the Dunning-Krueger plot. The Dunninger-Krueger effect is a hypothetical cognitive bias stating that people with low ability at a certain task often over-estimate their ability.\n",
    "\n",
    "\n",
    "<div align=\"center\">\n",
    "<p style=\"text-align:center;\"><img src=\"Dunning_Kruger.png\" width=\"600\"/>\n",
    "</div>\n"
   ]
  },
  {
   "attachments": {},
   "cell_type": "markdown",
   "metadata": {
    "id": "7bqjkGKwQSHW"
   },
   "source": [
    "### Chosing and shaping a model\n",
    "Some of the issues to consider when chosing is the following:\n",
    "* What type of model?\n",
    "* What part of the system?\n",
    "* How to deal with the parameters, which are not known from experiments?\n",
    "* What assumptions are “reasonable”? What is biologically plausible?"
   ]
  },
  {
   "attachments": {},
   "cell_type": "markdown",
   "metadata": {
    "id": "GOwlZRXEQSHZ"
   },
   "source": [
    "## Scale of a system\n",
    "The biological processes that make up an organism occur on various scales. Often a process on of a certain scale can be understood independently of the process on higher of lower scales. This could for instance be the molecular machinery of synapses. The fusion of the vesicle and the synaptic exocytose is a complicated process. Nevertheless, understanding the rich complexity of this process is not necessary for understanding how neuronal microcircuits work, for instance. Modelling often only works on one scale and it is difficult to connect models on one scale with a different. This is a challenge in neuroscience. \n",
    "\n",
    "<div align=\"right\">\n",
    "<p style=\"text-align:center;\"><img src=\"Scales1.png\" width=\"200\"/>\n",
    "</div>\n",
    "\n"
   ]
  },
  {
   "attachments": {},
   "cell_type": "markdown",
   "metadata": {
    "id": "RVuqWUXPQSHa"
   },
   "source": [
    "A clear challenge in neuroscience is a comprehensive mapping the connections between neurons. The research field of mapping the connections is called \"connectomics\". The challenge consists of one one hand it is required to image on a microscopic scale that is fine enought to confirm that there is a synaptic contact between two cells. On the other hand, the axons can travel over distances, which are many orders of magnitude hight than the scale of synaptic contacts. \n",
    "\n",
    "\n",
    "<div align=\"right\">\n",
    "<p style=\"text-align:center;\"><img src=\"Scales2.png\" width=\"200\"/>\n",
    "</div>\n",
    "\n",
    "\n",
    "Wikipedia: [Connectomics](https://en.wikipedia.org/wiki/Connectomics):\n",
    "\n",
    "    Connectomics is the production and study of connectomes: comprehensive maps of connections within an organism's nervous system\n"
   ]
  },
  {
   "attachments": {},
   "cell_type": "markdown",
   "metadata": {
    "id": "Wej_mEyXQSHc"
   },
   "source": [
    "An example of the mixture of scales, which is required in mapping connections can be found in a recent study using rhesus monkey ([Xu et al 2021]( https://doi.org/10.1038/s41587-021-00986-5 )).  \n",
    "<video width=\"320\" height=\"240\" controls>\n",
    "  <source src=\"Scalesnervoussystem.mp4\" type=video/mp4>\n",
    "</video>\n",
    "\n"
   ]
  },
  {
   "attachments": {},
   "cell_type": "markdown",
   "metadata": {
    "id": "rxKj2NqOGHC_"
   },
   "source": [
    "## Bridging scales has a caveat: Reductionism\n",
    "There is a prevalent but simplistic belief in neuroscience that behavior of the organism can be explained or ascribed to a certain cell type. \"Cell type x is responsible for behavior y\". Behavior could even be ascribed to a certain ion channel protein or gene, which has been investigated by instance come from genetic knock-out. This of course a monumental simplification, since it would require explaining a phenomenon (behavior) which is the outcome of often the highest scale in the system (nervous system). To read more about these caveat see [Krakauer]( ) \n",
    "\n",
    "\n",
    "<p style=\"text-align:left;\"><img src=\"Reductionism.png\" width=\"300\"/> <p style=\"text-align:left;\"><img src=\"Scales3.png\" width=\"200\"/>\n"
   ]
  }
 ],
 "metadata": {
  "colab": {
   "collapsed_sections": [],
   "name": "week0-IntroColab.ipynb",
   "provenance": [
    {
     "file_id": "/v2/external/notebooks/basic_features_overview.ipynb",
     "timestamp": 1651499927317
    }
   ],
   "toc_visible": true
  },
  "kernelspec": {
   "display_name": "Python 3",
   "language": "python",
   "name": "python3"
  },
  "language_info": {
   "codemirror_mode": {
    "name": "ipython",
    "version": 3
   },
   "file_extension": ".py",
   "mimetype": "text/x-python",
   "name": "python",
   "nbconvert_exporter": "python",
   "pygments_lexer": "ipython3",
   "version": "3.11.2"
  },
  "vscode": {
   "interpreter": {
    "hash": "aee8b7b246df8f9039afb4144a1f6fd8d2ca17a180786b69acc140d282b71a49"
   }
  }
 },
 "nbformat": 4,
 "nbformat_minor": 0
}