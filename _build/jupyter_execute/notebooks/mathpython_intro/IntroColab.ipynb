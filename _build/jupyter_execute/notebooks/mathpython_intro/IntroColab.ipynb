{
 "cells": [
  {
   "cell_type": "markdown",
   "metadata": {
    "id": "YfVxAdOoGZHC"
   },
   "source": [
    "# Google's Colab\n",
    "\n",
    "Have a look around. On the left side of the window you see there are four menu items:\n",
    "  - Table of content: shows the table of content of the notebook\n",
    "  - Search: let you search for worlds in the notebook\n",
    "  - Variables: keep tracks of evaluated variables, their type and values\n",
    "  - Files: the files present in the working directory\n",
    "\n"
   ]
  },
  {
   "cell_type": "markdown",
   "metadata": {
    "id": "JyG45Qk3qQLS"
   },
   "source": [
    "## Cells\n",
    "A notebook is a list of cells. Cells contain either explanatory text or executable code and its output. Click a cell to select it."
   ]
  },
  {
   "cell_type": "markdown",
   "metadata": {
    "id": "KR921S_OQSHG"
   },
   "source": [
    "### Code cells\n",
    "Below is a **code cell**. Once the toolbar button indicates CONNECTED, click in the cell to select it and execute the contents in the following ways:\n",
    "\n",
    "* Click the **Play icon** in the left gutter of the cell;\n",
    "* Type **Cmd/Ctrl+Enter** to run the cell in place;\n",
    "* Type **Shift+Enter** to run the cell and move focus to the next cell (adding one if none exists); or\n",
    "* Type **Alt+Enter** to run the cell and insert a new code cell immediately below it.\n",
    "\n",
    "There are additional options for running some or all cells in the **Runtime** menu.\n"
   ]
  },
  {
   "cell_type": "code",
   "execution_count": 1,
   "metadata": {
    "cellView": "both",
    "id": "WUtu4316QSHL"
   },
   "outputs": [
    {
     "name": "stdout",
     "output_type": "stream",
     "text": [
      "86400\n"
     ]
    }
   ],
   "source": [
    "seconds_in_a_day = 24 * 60 * 60\n",
    "print(seconds_in_a_day)"
   ]
  },
  {
   "cell_type": "markdown",
   "metadata": {
    "id": "UHLqgbt5ONP0"
   },
   "source": [
    "### Comments in code cells\n",
    "\n",
    "In python we can add comments in our code by appending the symbol `#` before line. Comments are a great way of adding notes on the code for ourself or for someone we're sharing the code with (including our future self). Like python, Notebooks/Colab code cells also accept comments:"
   ]
  },
  {
   "cell_type": "code",
   "execution_count": 2,
   "metadata": {
    "id": "8vrIIRvKO5dx"
   },
   "outputs": [],
   "source": [
    "# The variable ratsAlive stores the number of rats that survived the surgery\n",
    "ratsAlive = 5"
   ]
  },
  {
   "cell_type": "markdown",
   "metadata": {},
   "source": [
    "With Colab you can harness the full power of popular Python libraries to analyze and visualize data. The code cell below uses **numpy** to generate some random data, and uses **matplotlib** to visualize it. To edit the code, just click the cell and start editing."
   ]
  },
  {
   "cell_type": "code",
   "execution_count": 3,
   "metadata": {},
   "outputs": [
    {
     "data": {
      "image/png": "[encoded data removed]",
      "text/plain": [
       "<Figure size 432x288 with 1 Axes>"
      ]
     },
     "metadata": {
      "filenames": {
       "image/png": "/Users/enaj/SUND/CompNeuroCourse/_build/jupyter_execute/notebooks/mathpython_intro/IntroColab_7_0.png"
      },
      "needs_background": "light"
     },
     "output_type": "display_data"
    }
   ],
   "source": [
    "import numpy as np\n",
    "from matplotlib import pyplot as plt\n",
    "\n",
    "ys = 200 + np.random.randn(100)\n",
    "x = [x for x in range(len(ys))]\n",
    "\n",
    "plt.plot(x, ys, '-')\n",
    "plt.fill_between(x, ys, 195, where=(ys > 195), facecolor='g', alpha=0.6)\n",
    "\n",
    "plt.title(\"Sample Visualization\")\n",
    "plt.show()"
   ]
  },
  {
   "cell_type": "markdown",
   "metadata": {
    "id": "Id6tDF1HQSHD"
   },
   "source": [
    "### Text cells\n",
    "This is a **text cell**. You can **double-click** to edit this cell. Text cells\n",
    "use markdown syntax. To learn more, see our [markdown\n",
    "guide](/notebooks/markdown_guide.ipynb).\n",
    "\n",
    "You can also add math to text cells using [LaTeX](http://www.latex-project.org/)\n",
    "to be rendered by [MathJax](https://www.mathjax.org). Just place the statement\n",
    "within a pair of **\\$** signs. For example `$\\sqrt{3x-1}+(1+x)^2$` becomes\n",
    "$\\sqrt{3x-1}+(1+x)^2.$\n"
   ]
  },
  {
   "cell_type": "markdown",
   "metadata": {
    "id": "7bqjkGKwQSHW"
   },
   "source": [
    "### Adding and moving cells\n",
    "You can add new cells by using the **+ CODE** and **+ TEXT** buttons that show when you hover between cells. These buttons are also in the toolbar above the notebook where they can be used to add a cell below the currently selected cell.\n",
    "\n",
    "You can move a cell by selecting it and clicking **Cell Up** or **Cell Down** in the top toolbar. \n",
    "\n",
    "Consecutive cells can be selected by \"lasso selection\" by dragging from outside one cell and through the group.  Non-adjacent cells can be selected concurrently by clicking one and then holding down Ctrl while clicking another.  Similarly, using Shift instead of Ctrl will select all intermediate cells."
   ]
  },
  {
   "cell_type": "markdown",
   "metadata": {
    "id": "GOwlZRXEQSHZ"
   },
   "source": [
    "## Working with python\n",
    "Colaboratory is built on top of [Jupyter Notebook](https://jupyter.org/). Below are some examples of convenience functions provided."
   ]
  },
  {
   "cell_type": "markdown",
   "metadata": {
    "id": "RVuqWUXPQSHa"
   },
   "source": [
    "Long running python processes can be interrupted. Run the following cell and select **Runtime -> Interrupt execution** (*hotkey: Cmd/Ctrl-M I*) to stop execution."
   ]
  },
  {
   "cell_type": "code",
   "execution_count": 4,
   "metadata": {
    "cellView": "both",
    "id": "d-S-3nYLQSHb"
   },
   "outputs": [
    {
     "name": "stdout",
     "output_type": "stream",
     "text": [
      "Sleeping\n"
     ]
    },
    {
     "ename": "KeyboardInterrupt",
     "evalue": "",
     "output_type": "error",
     "traceback": [
      "\u001b[0;31m---------------------------------------------------------------------------\u001b[0m",
      "\u001b[0;31mKeyboardInterrupt\u001b[0m                         Traceback (most recent call last)",
      "Input \u001b[0;32mIn [4]\u001b[0m, in \u001b[0;36m<cell line: 3>\u001b[0;34m()\u001b[0m\n\u001b[1;32m      1\u001b[0m \u001b[38;5;28;01mimport\u001b[39;00m \u001b[38;5;21;01mtime\u001b[39;00m\n\u001b[1;32m      2\u001b[0m \u001b[38;5;28mprint\u001b[39m(\u001b[38;5;124m\"\u001b[39m\u001b[38;5;124mSleeping\u001b[39m\u001b[38;5;124m\"\u001b[39m)\n\u001b[0;32m----> 3\u001b[0m \u001b[43mtime\u001b[49m\u001b[38;5;241;43m.\u001b[39;49m\u001b[43msleep\u001b[49m\u001b[43m(\u001b[49m\u001b[38;5;241;43m30\u001b[39;49m\u001b[43m)\u001b[49m \u001b[38;5;66;03m# sleep for a while; interrupt me!\u001b[39;00m\n\u001b[1;32m      4\u001b[0m \u001b[38;5;28mprint\u001b[39m(\u001b[38;5;124m\"\u001b[39m\u001b[38;5;124mDone Sleeping\u001b[39m\u001b[38;5;124m\"\u001b[39m)\n",
      "\u001b[0;31mKeyboardInterrupt\u001b[0m: "
     ]
    }
   ],
   "source": [
    "import time\n",
    "print(\"Sleeping\")\n",
    "time.sleep(30) # sleep for a while; interrupt me!\n",
    "print(\"Done Sleeping\")"
   ]
  },
  {
   "cell_type": "markdown",
   "metadata": {
    "id": "Wej_mEyXQSHc"
   },
   "source": [
    "## Terminal commands\n",
    "\n",
    "You can use the cells as you would normally use the terminal by simply adding the exclamation mark *!* before the command.\n",
    "\n",
    "If you click on the left side menu item *files*, you'll see that there is a folder named *sampled_data*. Let's use the terminal command `cd` to enter the folder and the command `ls` to show the files present in the folder. The command `&&` allow use to link two terminal commands.\n",
    "\n",
    "\n"
   ]
  },
  {
   "cell_type": "code",
   "execution_count": null,
   "metadata": {
    "cellView": "both",
    "id": "5OCYEvK5QSHf"
   },
   "outputs": [],
   "source": [
    "!cd sample_data && ls"
   ]
  },
  {
   "cell_type": "markdown",
   "metadata": {
    "id": "rxKj2NqOGHC_"
   },
   "source": [
    "## Installing external libraries\n",
    "\n",
    "Colabs come with a set of basic python libraries by default like *numpy* or *matplotlib*. However, other libraries are present by the default. \n",
    "\n",
    "For example, in week 3 we will Brian2 library to simulate spiking neural populations, let's try to import it:"
   ]
  },
  {
   "cell_type": "markdown",
   "metadata": {
    "id": "nZd0nstYIZ_I"
   },
   "source": []
  },
  {
   "cell_type": "code",
   "execution_count": null,
   "metadata": {
    "id": "jJAxVMWHIaVi"
   },
   "outputs": [],
   "source": [
    "import brian2"
   ]
  },
  {
   "cell_type": "markdown",
   "metadata": {
    "id": "_30aQBKZInSF"
   },
   "source": [
    "We get an error saying that there isn't any module named *brian2*. To use it, we first need to install it. If we want to use other libraries we can install them using `pip`. we can simply install it with the command `!pip install brian2`:"
   ]
  },
  {
   "cell_type": "code",
   "execution_count": null,
   "metadata": {
    "id": "kEJwbQj1I3hi"
   },
   "outputs": [],
   "source": [
    "!pip install brian2"
   ]
  },
  {
   "cell_type": "markdown",
   "metadata": {
    "id": "pfPUOLXrI7fV"
   },
   "source": [
    "Now let's try to import brian2 again:"
   ]
  },
  {
   "cell_type": "code",
   "execution_count": null,
   "metadata": {
    "id": "u7gt8GsHJDCU"
   },
   "outputs": [],
   "source": [
    "import brian2"
   ]
  },
  {
   "cell_type": "markdown",
   "metadata": {
    "id": "d4L9TOP9QSHn"
   },
   "source": [
    "## Automatic completions and exploring code\n",
    "\n",
    "Colab provides automatic completions to explore attributes of Python objects, as well as to quickly view documentation strings. As an example, first run the following cell to import the  [`numpy`](http://www.numpy.org) module."
   ]
  },
  {
   "cell_type": "code",
   "execution_count": null,
   "metadata": {
    "cellView": "both",
    "id": "Q0JKWcmtQSHp"
   },
   "outputs": [],
   "source": [
    "import numpy as np"
   ]
  },
  {
   "cell_type": "markdown",
   "metadata": {
    "id": "1M890-bXeyYp"
   },
   "source": [
    "If you now insert your cursor after `np` and press **Period**(`.`), you will see the list of available completions within the `np` module. Completions can be opened again by using **Ctrl+Space**."
   ]
  },
  {
   "cell_type": "code",
   "execution_count": null,
   "metadata": {
    "cellView": "both",
    "id": "j6QRIfUHQSHq"
   },
   "outputs": [],
   "source": [
    "np"
   ]
  },
  {
   "cell_type": "markdown",
   "metadata": {
    "id": "g6MfomFhQSHs"
   },
   "source": [
    "If you type an open parenthesis after any function or class in the module, you will see a pop-up of its documentation string:"
   ]
  },
  {
   "cell_type": "code",
   "execution_count": null,
   "metadata": {
    "cellView": "both",
    "id": "SD0XnrVhQSHt"
   },
   "outputs": [],
   "source": [
    "np.ndarray"
   ]
  },
  {
   "cell_type": "markdown",
   "metadata": {
    "id": "GVIVDgdaRjPQ"
   },
   "source": [
    "The documentation can be opened again using **Ctrl+Shift+Space** or you can view the documentation for method by mouse hovering over the method name.\n",
    "\n",
    "When hovering over the method name the `Open in tab` link will open the documentation in a persistent pane. The `View source` link will navigate to the source code for the method."
   ]
  },
  {
   "cell_type": "markdown",
   "metadata": {
    "id": "TYTBdJXxfqiJ"
   },
   "source": [
    "## Exception Formatting"
   ]
  },
  {
   "cell_type": "markdown",
   "metadata": {
    "id": "4bqAVK-aQSHx"
   },
   "source": [
    "Exceptions are formatted nicely in Colab outputs:"
   ]
  },
  {
   "cell_type": "code",
   "execution_count": null,
   "metadata": {
    "cellView": "both",
    "id": "CrJf1PEmQSHx"
   },
   "outputs": [],
   "source": [
    "x = 1\n",
    "y = 4\n",
    "z = y/(1-x)"
   ]
  },
  {
   "cell_type": "markdown",
   "metadata": {
    "id": "7cRnhv_7N4Pa"
   },
   "source": [
    "## Rich, interactive outputs\n",
    "Until now all of the generated outputs have been text, but they can be more interesting, like the chart below. "
   ]
  },
  {
   "cell_type": "code",
   "execution_count": null,
   "metadata": {
    "id": "JVXnTqyE9RET"
   },
   "outputs": [],
   "source": [
    "import numpy as np\n",
    "from matplotlib import pyplot as plt\n",
    "\n",
    "ys = 200 + np.random.randn(100)\n",
    "x = [x for x in range(len(ys))]\n",
    "\n",
    "plt.plot(x, ys, '-')\n",
    "plt.fill_between(x, ys, 195, where=(ys > 195), facecolor='g', alpha=0.6)\n",
    "\n",
    "plt.title(\"Fills and Alpha Example\")\n",
    "plt.show()"
   ]
  },
  {
   "cell_type": "markdown",
   "metadata": {
    "id": "aro-UJgUQSH1"
   },
   "source": [
    "## Integration with Drive\n",
    "\n",
    "Colaboratory is integrated with Google Drive. It allows you to share, comment, and collaborate on the same document with multiple people:\n",
    "\n",
    "* The **SHARE** button (top-right of the toolbar) allows you to share the notebook and control permissions set on it.\n",
    "\n",
    "* **File->Make a Copy** creates a copy of the notebook in Drive."
   ]
  },
  {
   "cell_type": "markdown",
   "metadata": {},
   "source": [
    "## Loading Public Notebooks Directly from GitHub\n",
    "\n",
    "Colab can load public github notebooks directly, this is a quick way of using other people notebooks!\n",
    "There are different ways of doing this:\n",
    "\n",
    "    * Open Colab, click on file -> Open -> GitHub and search for the username and repo where the .ipynb you want to open is found\n",
    "    * Use the 'Open in Colab' chrome/firefox extension\n",
    "    * Manually copy the github path: [more info here](https://github.com/googlecolab/colabtools/blob/main/notebooks/colab-github-demo.ipynb)\n"
   ]
  },
  {
   "cell_type": "markdown",
   "metadata": {
    "id": "4hfV37gxpP_c"
   },
   "source": [
    "## Commenting on a cell\n",
    "You can comment on a Colaboratory notebook like you would on a Google Document. Comments are attached to cells, and are displayed next to the cell they refer to. Comments are a nice tool to discuss some code with other people.\n",
    "\n",
    "If you have edit or comment permissions you can comment by:\n",
    "\n",
    "1. Select a cell and click the comment button in the toolbar above the top-right corner of the cell.\n",
    "1. Right click a text cell and select **Add a comment** from the context menu.\n",
    "\n",
    "The Comment button in the top-right corner of the page shows all comments attached to the notebook. "
   ]
  },
  {
   "cell_type": "markdown",
   "metadata": {
    "id": "QrBWdBrpPXPZ"
   },
   "source": [
    "## Advance: The cell magics in IPython\n",
    "\n",
    "IPython has a system of commands we call 'magics' that provide effectively a mini command language that is orthogonal to the syntax of Python and is extensible by the user with new commands. Magics are meant to be typed interactively, so they use command-line conventions, such as using whitespace for separating arguments, dashes for options and other conventions typical of a command-line environment.\n",
    "\n",
    "Magics come in two kinds:\n",
    "\n",
    "    Line magics: these are commands prepended by one % character and whose arguments only extend to the end of the current line.\n",
    "    Cell magics: these use two percent characters as a marker (%%), and they receive as argument both the current line where they are declared and the whole body of the cell. Note that cell magics can only be used as the first line in a cell, and as a general principle they can't be 'stacked' (i.e. you can only use one cell magic per cell). A few of them, because of how they operate, can be stacked, but that is something you will discover on a case by case basis.\n",
    "\n",
    "The `%lsmagic` magic is used to list all available magics, and it will show both line and cell magics currently defined:"
   ]
  },
  {
   "cell_type": "code",
   "execution_count": null,
   "metadata": {},
   "outputs": [],
   "source": [
    "%lsmagic"
   ]
  },
  {
   "cell_type": "markdown",
   "metadata": {},
   "source": [
    "An useful *magic* command is `%timeit` which allows us to compute how long a program takes to run:"
   ]
  },
  {
   "cell_type": "code",
   "execution_count": null,
   "metadata": {},
   "outputs": [],
   "source": [
    "%matplotlib inline\n",
    "import numpy as np\n",
    "import matplotlib.pyplot as plt\n",
    "\n",
    "def computeEigenVals(matrix):\n",
    "    return np.linalg.eigvals(matrix)\n",
    "\n",
    "%timeit computeEigenVals(np.random.rand(100,100))"
   ]
  }
 ],
 "metadata": {
  "colab": {
   "collapsed_sections": [],
   "name": "week0-IntroColab.ipynb",
   "provenance": [
    {
     "file_id": "/v2/external/notebooks/basic_features_overview.ipynb",
     "timestamp": 1651499927317
    }
   ],
   "toc_visible": true
  },
  "kernelspec": {
   "display_name": "Python 3.9.13 ('p39')",
   "language": "python",
   "name": "python3"
  },
  "language_info": {
   "codemirror_mode": {
    "name": "ipython",
    "version": 3
   },
   "file_extension": ".py",
   "mimetype": "text/x-python",
   "name": "python",
   "nbconvert_exporter": "python",
   "pygments_lexer": "ipython3",
   "version": "3.9.16"
  },
  "vscode": {
   "interpreter": {
    "hash": "62d00359d1e751dd3472fbb575f10dfe4a2217e28c8573ed8a15de19674dd853"
   }
  }
 },
 "nbformat": 4,
 "nbformat_minor": 0
}