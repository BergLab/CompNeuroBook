{
 "cells": [
  {
   "cell_type": "markdown",
   "metadata": {},
   "source": [
    "# Introduction to Brian part 4: Build your own simulation\n",
    "\n",
    "Now you are ready to build and simulate any neural population that you can conceive. \n",
    "Your goal in this exercies is simply design, simulate and study a population of neurons.\n",
    "\n",
    "Start by designing a population of neurons by choosing the following parameters:\n",
    "\n",
    "### Topics covered on week1a\n",
    "\n",
    "- [ ] Number of neurons in the populations\n",
    "- [ ] Type of neurons: excitatory, inhibitory.. how many of each?\n",
    "- [ ] Connectivity: all connected? random connectivity?\n",
    "\n",
    "Then implement it with Brian re-using section of code from the previous notebooks.\n",
    "\n",
    "As before we start by importing the Brian package and setting up matplotlib for IPython:"
   ]
  },
  {
   "cell_type": "markdown",
   "metadata": {},
   "source": [
    "As always, we start by importing the functions from brian library:"
   ]
  },
  {
   "cell_type": "code",
   "execution_count": null,
   "metadata": {
    "collapsed": true
   },
   "outputs": [],
   "source": [
    "!pip3 install brian2\n",
    "from brian2 import *\n",
    "%matplotlib inline"
   ]
  },
  {
   "cell_type": "code",
   "execution_count": null,
   "metadata": {},
   "outputs": [],
   "source": []
  },
  {
   "cell_type": "markdown",
   "metadata": {},
   "source": [
    "## Interactive exploration\n",
    "\n",
    "Colabs have a form feature which allows you to create interactive plots:\n",
    "(If you're using jupyer notebooks rather than Colab, you can use [Ipython widgets](https://ipywidgets.readthedocs.io/en/latest/examples/Using%20Interact.html))"
   ]
  },
  {
   "cell_type": "code",
   "execution_count": null,
   "metadata": {},
   "outputs": [],
   "source": [
    "#@title Default title text { run: \"auto\", vertical-output: true }\n",
    "populationSize = 1000 #@param {type:\"slider\", min:0, max:1000, step:1}"
   ]
  }
 ],
 "metadata": {
  "hide_input": false,
  "kernelspec": {
   "display_name": "Python 3.9.13 ('p39')",
   "language": "python",
   "name": "python3"
  },
  "language_info": {
   "codemirror_mode": {
    "name": "ipython",
    "version": 3
   },
   "file_extension": ".py",
   "mimetype": "text/x-python",
   "name": "python",
   "nbconvert_exporter": "python",
   "pygments_lexer": "ipython3",
   "version": "3.9.13"
  },
  "vscode": {
   "interpreter": {
    "hash": "62d00359d1e751dd3472fbb575f10dfe4a2217e28c8573ed8a15de19674dd853"
   }
  }
 },
 "nbformat": 4,
 "nbformat_minor": 2
}
