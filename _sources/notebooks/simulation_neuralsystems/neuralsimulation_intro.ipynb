{
 "cells": [
  {
   "attachments": {},
   "cell_type": "markdown",
   "metadata": {},
   "source": [
    "# Simulating neural populations"
   ]
  },
  {
   "attachments": {},
   "cell_type": "markdown",
   "metadata": {},
   "source": [
    "In this introduction chapter, we will delve into the fascinating field of neural simulation, focusing on simulating populations of spiking neural networks using the [Brian2 library](https://briansimulator.org/). Neural simulation is a powerful tool for investigating the dynamics and properties of biological neural systems, enabling researchers to model and analyze their behavior under various conditions. The Brian2 library is a versatile and user-friendly Python-based platform specifically designed for simulating spiking neural networks. It efficiently handles the underlying differential equations, automatically solving them and relieving us from the manual calculations we performed in the previous chapter. This allows for accurate simulations of large-scale networks with diverse neuron types and synaptic connections. Through hands-on examples and practical exercises, we will deepen our understanding of spiking neural network behavior, explore the effects of different network parameters, and learn how to create customized models that can provide insights into the underlying principles of biological neural systems. "
   ]
  },
  {
   "cell_type": "markdown",
   "metadata": {},
   "source": []
  },
  {
   "attachments": {},
   "cell_type": "markdown",
   "metadata": {
    "id": "ALN0C03XMjCO"
   },
   "source": [
    "## Supporting material\n",
    "\n",
    "This chapter's supporting material is [Neuromatch Academy playlist on biological neuron models](https://www.youtube.com/playlist?list=PLkBQOLLbi18MCEdPJQ7gdnqP-Z0Tkmcjy) (skip Q&As videos) and the following chapters from Sterratt's Principles of Computational Modelling in Neuroscience: 2.1, 2.2, 7.1, 7.2, 8.2 "
   ]
  },
  {
   "cell_type": "code",
   "execution_count": null,
   "metadata": {
    "tags": [
     "remove-input"
    ]
   },
   "outputs": [],
   "source": [
    "from IPython.display import YouTubeVideo\n",
    "YouTubeVideo(\"MAOOPv3whZ0\", width=600, height=400)"
   ]
  }
 ],
 "metadata": {
  "colab": {
   "collapsed_sections": [],
   "name": "week2a.ipynb",
   "provenance": []
  },
  "interpreter": {
   "hash": "62d00359d1e751dd3472fbb575f10dfe4a2217e28c8573ed8a15de19674dd853"
  },
  "kernelspec": {
   "display_name": "Python 3 (ipykernel)",
   "language": "python",
   "name": "python3"
  },
  "language_info": {
   "codemirror_mode": {
    "name": "ipython",
    "version": 3
   },
   "file_extension": ".py",
   "mimetype": "text/x-python",
   "name": "python",
   "nbconvert_exporter": "python",
   "pygments_lexer": "ipython3",
   "version": "3.9.13"
  }
 },
 "nbformat": 4,
 "nbformat_minor": 1
}
