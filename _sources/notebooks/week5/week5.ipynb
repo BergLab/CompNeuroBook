{
  "cells": [
    {
      "cell_type": "markdown",
      "metadata": {
        "id": "XWhYDeerEHkw"
      },
      "source": [
        "**⚠️ Before starting, go to the menu and click on: `View` -> `Expand sections`**"
      ]
    },
    {
      "cell_type": "markdown",
      "metadata": {
        "id": "DnWcYWyTERem"
      },
      "source": [
        "# Introduction to network science"
      ]
    },
    {
      "cell_type": "markdown",
      "metadata": {
        "id": "i18gUQjlHAzv"
      },
      "source": [
        "Network science is a discipline that deals with systems —made of many elements— and studies how the connectivity of the system affects its observed behavior. \n",
        "Examples of applications of network science are ecosystems, biological pathways, gene regulatory networks or neural networks.\n",
        "\n",
        "\n",
        "### Why networks?\n",
        "\n",
        "One can wonder what's the point of using network models to describe natural phenomena made of heterogeneous elements connected among them. The reason is that the graph formalism allows us to describe complex phenomena based on its network properties which we can quantified with the quantities we will define below. Here's some examples of use cases:\n",
        "\n",
        "  - We want to characterise networks in order to change them so we can improve their behaviour (eg. the network of world's airport: improve the efficiency of traveling between countries).\n",
        "  - We want to characterise them so we can compare to check if they're behaving normally, eg. check if  gene regulatory network is behaving normally or there is some malfunctioning or if they're \"real\" network, eg. is a given twitter is made of humans or of *russian* bots. \n",
        "\n",
        "In both cases, the healthy —or real— network is used as the null model for testing some *malfunction* hypothesis.\n",
        "\n",
        "The so called **Network Neuroscience** is a growing field which uses network methods to study the brain. For instance to build [functional brain networks based on EEG/MEG or fMRI](https://www.frontiersin.org/articles/10.3389/fnsys.2010.00016/full) which can be used to characterise healthy vs clinical conditions or [guide surgical procedures like epilepsy surgery](https://n.neurology.org/content/96/5/e758).\n",
        "\n",
        "<br>\n",
        "<br>\n",
        "<div align=\"center\">\n",
        "<p style=\"text-align:center;\"><img src=\"https://n.neurology.org/content/neurology/96/5/e758/F1.large.jpg\" width=\"600\"/>\n",
        "</div>"
      ]
    },
    {
      "cell_type": "markdown",
      "metadata": {
        "id": "U2Wt95obKpgD"
      },
      "source": [
        "## Basic network concepts\n",
        "\n",
        "\n",
        "### Nodes and edges\n",
        "\n",
        "A network —or graph— is a set of nodes —or vertices— and the connections between them named links —or edges—. A network size is defined as it number of nodes $N$. Two nodes are said to be **adjacent** if they are connected by single edge. Mathematically, it's usually notated as $G = (V,E)$, ie. a graph $G$ is a set of vertices $V$ and edges $E$.\n",
        "\n",
        "\n",
        "### Network Connectivity\n",
        "\n",
        "The connectivity of network can be given as \n",
        "\n",
        "- Adjacency matrix: a square matrix whose values (0 or 1) indicated the presence or not of edge between 2 nodes. It gives the connection configuration of the network. Each row —and each column— represents one node of the network, eg. 1st row encodes the connections of the *node 1* of the network.\n",
        "- Connectivity matrix: the same as the adjacency matrix.\n",
        "- Weight matrix: same idea as the adjacency matrix but now, instead of having zeros and ones, we have real values which represent the strength of the connection.\n",
        "\n",
        "<br>\n",
        "<div align=\"center\">\n",
        "<p style=\"text-align:center;\"><img src=\"https://mathworld.wolfram.com/images/eps-svg/AdjacencyMatrix_1002.svg\" width=\"500\"/>\n",
        "</div>\n",
        "\n",
        "\n",
        "### Connected Network \n",
        "A network is said to be **connected** if there exist a path between any pairs of nodes in the network. Two networks between which there is not path are said to be **disjoint**.\n",
        "\n",
        "\n",
        "A network can often be sub-divided in separated clusters, where all nodes within each cluster are directly or indirectly connected, but where no path exist between different clusters. In matrix notation these clusters could be mapped into a matrix A with a **block diagonal matrix** (each block corresponding to a cluster). \n",
        "\n",
        "\n",
        "### Directed vs undirected network\n",
        "\n",
        "A network is said to be directed if the connections between the node have directionality:\n",
        "\n",
        "<div align=\"center\">\n",
        "<p style=\"text-align:center;\"><img src=\"https://upload.wikimedia.org/wikipedia/commons/5/51/Directed_graph.svg\" width=\"300\"/>\n",
        "</div>\n",
        "\n",
        "If the network is non-directed the adjacency matrix will be symmetrical.\n"
      ]
    },
    {
      "cell_type": "markdown",
      "metadata": {
        "id": "Jc4n3OXu7k4w"
      },
      "source": [
        "## Using NetworkX\n",
        "\n",
        "[NetworkX](https://networkx.guide/) is a Python library for the creation, manipulation, and study of the structure, dynamics, and functions of complex networks. Check [the gallery](https://networkx.org/documentation/stable/auto_examples/index.html) to get a sense of what can be done with it. \n",
        "\n",
        "Let's start by creating and visualizing a simple graph. Notice that we do not need to create the nodes in order to add edges. When adding a edge between two nodes indices, NetworkX will add the corresponding nodes."
      ]
    },
    {
      "cell_type": "code",
      "execution_count": null,
      "metadata": {
        "id": "xAT7QrRk8SDW"
      },
      "outputs": [],
      "source": [
        "import networkx as nx\n",
        "import numpy as np\n",
        "import matplotlib.pyplot as plt\n",
        "from scipy.sparse import rand\n",
        "from numpy.random import default_rng"
      ]
    },
    {
      "cell_type": "code",
      "execution_count": null,
      "metadata": {
        "colab": {
          "base_uri": "https://localhost:8080/",
          "height": 357
        },
        "id": "2mxjDHRFAQcm",
        "outputId": "5e957e48-dab7-4413-e5c9-9c9c2fbf4730"
      },
      "outputs": [],
      "source": [
        "# Create graph G\n",
        "G = nx.Graph()\n",
        "\n",
        "# Add edges —nodes are added when specifying the edges\n",
        "G.add_edge(1, 2)\n",
        "G.add_edge(1, 3)\n",
        "G.add_edge(1, 5)\n",
        "G.add_edge(2, 3)\n",
        "G.add_edge(3, 4)\n",
        "G.add_edge(4, 5)\n",
        "\n",
        "\n",
        "# Drawing options\n",
        "drawing_options = {\n",
        "    \"font_size\": 20,\n",
        "    \"node_size\": 1000,\n",
        "    \"node_color\": \"white\",\n",
        "    \"edgecolors\": \"black\",\n",
        "    \"linewidths\": 3,\n",
        "    \"width\": 3,\n",
        "}\n",
        "\n",
        "# Draw graph G \n",
        "plt.figure(figsize=(10,6))\n",
        "nx.draw_networkx(G, **drawing_options)\n",
        "plt.axis(\"off\")\n",
        "plt.show()"
      ]
    },
    {
      "cell_type": "markdown",
      "metadata": {
        "id": "Cwd-s-2cAq4x"
      },
      "source": [
        "Instead of adding the nodes and edges one by one we can use a loop. Let's create a random graph. Notice that since we're randomly sampling the edges we may get a disjoint graph."
      ]
    },
    {
      "cell_type": "code",
      "execution_count": null,
      "metadata": {
        "colab": {
          "base_uri": "https://localhost:8080/",
          "height": 357
        },
        "id": "aN010w3uUOW0",
        "outputId": "64529843-3711-4323-e1ed-d3c5a80f58ab"
      },
      "outputs": [],
      "source": [
        "# Create graph G\n",
        "G = nx.Graph()\n",
        "\n",
        "# Create a random set of edges\n",
        "maxNumberOfNodes = 10\n",
        "numberOfEdges = 20\n",
        "for _ in range(numberOfEdges):\n",
        "    edge_from_node = np.random.choice(maxNumberOfNodes) # Sample a random number from [0, maxNumberOfNodes]\n",
        "    edge_to_node = np.random.choice(maxNumberOfNodes)   # Sample a random number from [0, maxNumberOfNodes]\n",
        "    G.add_edge(edge_from_node, edge_to_node)   # Add the edge between the random values\n",
        "\n",
        "\n",
        "# Draw graph G \n",
        "plt.figure(figsize=(10,6))\n",
        "nx.draw_networkx(G, **drawing_options)\n",
        "plt.axis(\"off\")\n",
        "plt.show()"
      ]
    },
    {
      "cell_type": "markdown",
      "metadata": {
        "id": "MlnBNF7AV5T5"
      },
      "source": [
        "We can easily obtain the adjacency matrix representation of the graph:"
      ]
    },
    {
      "cell_type": "code",
      "execution_count": null,
      "metadata": {
        "colab": {
          "base_uri": "https://localhost:8080/"
        },
        "id": "okHujOROWPb8",
        "outputId": "eb839bc6-de6b-4f28-8794-e0f9f5fc57c4"
      },
      "outputs": [],
      "source": [
        "adjacency_matrix = nx.to_numpy_matrix(G)\n",
        "print(adjacency_matrix)"
      ]
    },
    {
      "cell_type": "markdown",
      "metadata": {
        "id": "dWaVeyviVPZw"
      },
      "source": [
        "We can also define a network by creating a adjacency matrix first and using it to build the graph:"
      ]
    },
    {
      "cell_type": "code",
      "execution_count": null,
      "metadata": {
        "colab": {
          "base_uri": "https://localhost:8080/",
          "height": 522
        },
        "id": "o9RN-psiYVnx",
        "outputId": "44d10e80-dbd1-4c7f-ca0a-b5486fe64123"
      },
      "outputs": [],
      "source": [
        "# Create random network\n",
        "networkSize = 7\n",
        "adj_matrix = np.random.randint(low=0, high=2, size=(networkSize, networkSize)) # create a square random matrix with 0s and 1s of of size networkSize\n",
        "G = nx.from_numpy_matrix(adj_matrix, create_using=nx.DiGraph)\n",
        "\n",
        "# Draw network\n",
        "plt.figure(figsize=(10,6))\n",
        "nx.draw_networkx(G, **drawing_options)\n",
        "plt.axis(\"off\")\n",
        "plt.show()\n",
        "\n",
        "# Print Adjacency matrix matrix \n",
        "print(f\"Adjacency matrix:\\n\\n{adj_matrix}\")\n"
      ]
    },
    {
      "cell_type": "markdown",
      "metadata": {},
      "source": [
        "If we want to create a sparse network, then we can do so by creating sparse connectivity matrix:"
      ]
    },
    {
      "cell_type": "code",
      "execution_count": null,
      "metadata": {},
      "outputs": [],
      "source": [
        "from scipy import stats, sparse\n",
        "from numpy.random import default_rng\n",
        "\n",
        "networkSize = 10\n",
        "minWeight = -1\n",
        "maxWeight = 1\n",
        "sparsity = 0.2\n",
        "\n",
        "rng = default_rng()\n",
        "rvs = stats.uniform(loc=minWeight, scale=maxWeight - minWeight).rvs\n",
        "sparse_adj_matrix = sparse.random(networkSize, networkSize, density=sparsity, data_rvs=rvs).toarray()\n",
        "G_sparse = nx.from_numpy_matrix(sparse_adj_matrix)\n",
        "print(G_sparse)"
      ]
    },
    {
      "cell_type": "markdown",
      "metadata": {
        "id": "0sqR9hYHhkNU"
      },
      "source": [
        "By default, networkX create graphs as undirected even if the adjacency matrix is not symmetric. To create directed graphs we need to add  `create_using=nx.DiGraph` when creating the graph from the adjacency matrix."
      ]
    },
    {
      "cell_type": "markdown",
      "metadata": {},
      "source": [
        "Let's created a **weighted directed graph** and draw it with the edge colours indicating the weight value:"
      ]
    },
    {
      "cell_type": "code",
      "execution_count": null,
      "metadata": {},
      "outputs": [],
      "source": [
        "# Create random weighted directed network\n",
        "networkSize = 10\n",
        "minWeight = -1\n",
        "maxWeight = 1\n",
        "adj_matrix = np.random.uniform(low=minWeight, high=maxWeight, size=(networkSize, networkSize)) # create a square random matrix with 0s and 1s of of size networkSize\n",
        "G = nx.from_numpy_matrix(adj_matrix, create_using=nx.DiGraph)\n",
        "\n",
        "\n",
        "plt.figure(figsize=(16,12))\n",
        "nodes_size = 100*np.array(list(dict(G.degree()).values()))\n",
        "edge_colors = adj_matrix.flatten()\n",
        "nx.draw_networkx(G, node_color='white', edgecolors='black', with_labels=True, node_size=500, edge_color = edge_colors, connectionstyle='arc3, rad = 0.1')\n",
        "\n",
        "\n",
        "plt.colorbar(plt.cm.ScalarMappable(cmap=plt.cm.viridis, norm=plt.Normalize(vmin = edge_colors.min(), vmax=edge_colors.max())))\n",
        "plt.axis(\"off\")\n",
        "plt.show()"
      ]
    },
    {
      "cell_type": "markdown",
      "metadata": {
        "id": "e_Wz8oOOeGTD"
      },
      "source": [
        "\n",
        "#### Exercises 🧑‍💻🔨\n",
        "\n",
        "  - Write down the connectivity matrices of the following networks (in paper and as a numpy array):\n",
        "\n",
        "<div align=\"center\">\n",
        "<p style=\"text-align:center;\"><img src=\"https://github.com/BergLab/CompNeuro22/blob/main/notebooks/week5/graphs.png?raw=true\" width=\"500\"/>\n",
        "</div>\n",
        "\n",
        "  - Using the connectivity matrices you just wrote, create a graph with NetworkX for each of them and draw them using `draw_networkx()` function.\n",
        "\n",
        "  - How would you would recurrent connections look in the matrix? ie. a nodes that are connected to themselves.\n",
        "\n",
        "  - What phenomena could be described with a directed network? What phenomena could be described with a non-directed network?\n"
      ]
    },
    {
      "cell_type": "code",
      "execution_count": null,
      "metadata": {
        "id": "Rpdo42B6eIt-"
      },
      "outputs": [],
      "source": [
        "## Your code here"
      ]
    },
    {
      "cell_type": "markdown",
      "metadata": {
        "id": "KFMAahRj_tYF"
      },
      "source": [
        "## Measures used to characterise networks\n",
        "\n",
        "### Degree of connectivity\n",
        "The average degree —or connectivity—, **k** is the average number of edges per node. Usually we work with the average $<k>$ and the degree distribution which is the probability P(k) that a given node have k links to the remaining N − 1 nodes. \n",
        "\n",
        "\n",
        " \n",
        "### Distance, diameter and shortest path\n",
        "\n",
        "The **distance** between two nodes in a network is defined as the minimal number of links that connect them. \n",
        "\n",
        "From the concept of distance, we can define, for a connected network, a **diameter** as the longest of all the calculated shortest paths between any two nodes. An example would be in the networks of the world's airports, what's the maximum number of flights you need to take to get to any airport from any airport, similarly, in biological phenomena, there must have been an evolutionary pressure to find optimal pathways for sensory processing.\n",
        "\n",
        "The **average shortest-path** between any two nodes of a network is a measure of efficiency of information propagation, since you want to be able to any airport as fast as possible.\n",
        "\n",
        "### Centrality\n",
        "\n",
        "**Centrality** measures try to rank the importance of the nodes in a network. There exist several ways of defining the centrality of a node, for instance, the **Degree centrality** of a node is its number of links.\n",
        "Another quantification of a node centrality is *betweenness*. **Betweenness centrality** measures the number of times a node lies on the shortest path between other nodes. We can compute it for a single node, or for the whole network as the average of all nodes betweness. This help define some nodes as hubs is the have high betweenness. **Closeness centrality** ranks each node based on their closeness to all other nodes in the network, ie. the node with the shortest paths to all other nodes rank higher. Which specific centrality measure is best to use depends on the aspect of the specific network we are studying.\n",
        "\n"
      ]
    },
    {
      "cell_type": "markdown",
      "metadata": {
        "id": "STFA-WUHdqCe"
      },
      "source": [
        "Let's use NetworkX to compute these quantities of some networks. Let's start by computing the degrees for every node:"
      ]
    },
    {
      "cell_type": "code",
      "execution_count": null,
      "metadata": {
        "colab": {
          "base_uri": "https://localhost:8080/"
        },
        "id": "MA5RL8swwpbu",
        "outputId": "1508aeac-2b45-4f37-d12d-a12e49a18a30"
      },
      "outputs": [],
      "source": [
        "networkSize = 20\n",
        "p = 0.5 # probability of for a node to be connected to any other node, eg. p=1 all nodes would be connected to each other and p=0 there would not be any edge\n",
        "G = nx.gnp_random_graph(networkSize, p) # gnp_random_graph function generates a random graph\n",
        "\n",
        "degree_nodes = G.degree()\n",
        "print(degree_nodes) # A list of tuples with first number representing the node index and its degree\n",
        "\n",
        "# Let's print it in a easier to read format\n",
        "for node in degree_nodes:\n",
        "  print(f'Node {node[0]} has degree {node[1]}')"
      ]
    },
    {
      "cell_type": "markdown",
      "metadata": {
        "id": "P78m8NmT54R4"
      },
      "source": [
        "Now that we know how to compute the degree of each node we can visualise the network adding colors to the nodes to represent their degree, ie. blue being low degree and red high degree. We will also display the degree of each node as a number (rather than the node index as we before) and make the size of each node proportional to its degree."
      ]
    },
    {
      "cell_type": "code",
      "execution_count": null,
      "metadata": {
        "colab": {
          "base_uri": "https://localhost:8080/",
          "height": 466
        },
        "id": "pWnVYI0w6GeN",
        "outputId": "11f1b241-2193-4ad4-e16a-6502d7347ad6"
      },
      "outputs": [],
      "source": [
        "plt.figure(figsize=(12,8))\n",
        "n_color = np.asarray([G.degree()[n] for n in G.nodes()]) #  color nodes based on their degree\n",
        "nodes_size = 100*np.array(list(dict(G.degree()).values()))\n",
        "nx.draw_networkx(G, node_color=n_color, cmap=plt.cm.cool, labels= dict(G.degree()), with_labels=True, node_size=nodes_size)\n",
        "# plt.colorbar(plt.cm.ScalarMappable(cmap=plt.cm.coolwarm, norm=plt.Normalize(vmin = n_color.min(), vmax=n_color.max())))\n",
        "plt.axis(\"off\")\n",
        "plt.show()"
      ]
    },
    {
      "cell_type": "markdown",
      "metadata": {
        "id": "XgtZahN7xaah"
      },
      "source": [
        "Now that we know the degree of each node we can compute the **degree distribution**:"
      ]
    },
    {
      "cell_type": "code",
      "execution_count": null,
      "metadata": {
        "colab": {
          "base_uri": "https://localhost:8080/",
          "height": 413
        },
        "id": "yFPSFCIexsEm",
        "outputId": "e91cbf22-001f-4097-b08d-b2c877597a14"
      },
      "outputs": [],
      "source": [
        "# Create sorted list of the degree of each of the nodes\n",
        "degree_sequence = sorted((d for n, d in G.degree()), reverse=True)\n",
        "\n",
        "# Create an histogram \n",
        "plt.figure(figsize=(10,6))\n",
        "_bins_ = [bin_value for bin_value in range(min(set(np.array(G.degree())[:,1])), max(set(np.array(G.degree())[:,1])))] \n",
        "plt.hist(degree_sequence, bins = _bins_, edgecolor='black', linewidth=2, rwidth=0.7, align='left')\n",
        "plt.xlabel('Degree $k$', fontsize=12)\n",
        "plt.ylabel('P(k)', fontsize=12)\n"
      ]
    },
    {
      "cell_type": "markdown",
      "metadata": {
        "id": "sEDTDqY-8lHc"
      },
      "source": [
        "Let's also compute the other quantities we have introduced:"
      ]
    },
    {
      "cell_type": "code",
      "execution_count": null,
      "metadata": {
        "colab": {
          "base_uri": "https://localhost:8080/"
        },
        "id": "DYFe5Qr08gS3",
        "outputId": "9cf73b88-057f-425d-b67b-0d9776b20e58"
      },
      "outputs": [],
      "source": [
        "print(G)\n",
        "print(f'Number of nodes: {G.number_of_nodes()}')\n",
        "print(f'Number of edges: {G.number_of_edges()}')\n",
        "print(f'Network diameter: {nx.diameter(G)}')\n",
        "print(f'Average shortest path: {nx.average_shortest_path_length(G)}')"
      ]
    },
    {
      "cell_type": "markdown",
      "metadata": {
        "id": "dwJlOF-2_2Zx"
      },
      "source": [
        "\n",
        "#### Exercises 🧑‍💻🔨\n",
        "\n",
        "  - Use NetworkX `nx.gnp_random_graph(networkSize, p)` to create a random graph with different probability p and sizes and compute its degree distribution. Can you figure out the relation between the probability p and the shape of the degree distribution histogram?\n",
        "\n",
        "  - Make a figure where you plot the average shortest path as a function of the network size for undirected networks of sizes from 10 to 200. #Hint: create a loop generating a random network at iteration by generating random adjacency matrix with `np.random.randint(low=0, high=2, size=(networkSize, networkSize))`, compute its average shortest path. Is the result surprising?\n",
        "  - Now compute the same curve but for directed graphs and add them both together in the same figure. Explain why we observe different results for directed and undirected graphs.\n"
      ]
    },
    {
      "cell_type": "markdown",
      "metadata": {
        "id": "1lDNKRrznE9C"
      },
      "source": [
        "### Clustering coefficient \n",
        "\n",
        "The clustering coefficient (CC) —or cliquishness— of node represents the fraction of interconnections between neighbors of node i. It's a measure of how much nodes in the network tend to cluster together. Eg. In a social graph it measures the proportion of your friends that are also friends with each other. The global CC of network is simply the average of the CC of all the nodes.\n",
        "\n",
        "\n",
        "<div align=\"center\">\n",
        "<p style=\"text-align:center;\"><img src=\"https://github.com/BergLab/CompNeuro22/blob/main/notebooks/week5/cc.png?raw=true\" width=\"500\"/>\n",
        "</div>\n",
        "\n",
        "A large clustering coefficient (CC) indicates large locality in the sense that neighbors of a given node tend to be directly connected while if a node has low CC it means that its neighbors aren't connected to each other, eg. high CC is a society where nearly everybody has common friends while low CC: people have friends but these friends don't tend to know each other. \n",
        "\n",
        "\n",
        "### Cliques \n",
        "\n",
        "A clique is set of nodes which are are all adjacent, that is, there is a direct connection between all pairs of them. You can think of a clique in a social network as a cohesive group of people that are tightly connected to each other. We can define 3-cliques, 4-cliques, etc. You can think of cliques as sub-networks of networks, eg. group of friend who they all know each others, while connections to other cliques represent people who have friends in several groups.\n",
        "\n",
        "The graph below has:\n",
        "\n",
        " - 23 × 1-vertex cliques (the vertices),\n",
        " - 42 × 2-vertex cliques (the edges),\n",
        " - 19 × 3-vertex cliques (light and dark blue triangles), and\n",
        " - 2 × 4-vertex cliques (dark blue areas).\n",
        "\n",
        "<div align=\"center\">\n",
        "<p style=\"text-align:center;\"><img src=\"https://upload.wikimedia.org/wikipedia/commons/thumb/d/d0/VR_complex.svg/820px-VR_complex.svg.png\" width=\"400\"/>\n",
        "</div>\n",
        "\n",
        "The 11 light blue triangles form maximal cliques. The two dark blue 4-cliques are both maximum and maximal, and the clique number of the graph is 4.\n",
        "\n",
        "\n",
        "\n",
        "### Motifs and motifs analysis\n",
        "\n",
        "Motifs are sub-graphs present in a network that are responsible for the functions of a network. Some motifs —like positive and negative feedback— are found across networks describing many phenomena. However, much more complex motifs exist. When networks are small we can try to understand the motifs present, however, when network are too big to be understood directly, we can do a **motif network analysis**: we create a set of random networks and compare the distribution of motifs present  in the real network vs the random ones. \n",
        "\n",
        "\n",
        "<div align=\"center\">\n",
        "<p style=\"text-align:center;\"><img src=\"https://github.com/BergLab/CompNeuro22/blob/main/notebooks/week5/motifs.png?raw=true\" width=\"500\"/>\n",
        "</div>"
      ]
    },
    {
      "cell_type": "markdown",
      "metadata": {
        "id": "-PbNAt7Z9MZ9"
      },
      "source": [
        "We can easily compute the clustering coefficient of a graph with NetworkX:"
      ]
    },
    {
      "cell_type": "code",
      "execution_count": null,
      "metadata": {
        "colab": {
          "base_uri": "https://localhost:8080/"
        },
        "id": "BQ7Lse0r8Hs4",
        "outputId": "b562550f-7a27-40fa-8350-884ecf9723fb"
      },
      "outputs": [],
      "source": [
        "networkSize = 20\n",
        "p = 0.5 # probability of for a node to be connected to any other node, eg. p=1 all nodes would be connected to each other and p=0 there would not be any edge\n",
        "G = nx.gnp_random_graph(networkSize, p) # gnp_random_graph function generates a random graph\n",
        "\n",
        "CC = nx.clustering(G)\n",
        "CC"
      ]
    },
    {
      "cell_type": "markdown",
      "metadata": {
        "id": "AEPrU3Lh9eQI"
      },
      "source": [
        "Notice, that this is the clustering coefficient of each node. If we want to find the global CC, we can simply compute the average:"
      ]
    },
    {
      "cell_type": "code",
      "execution_count": null,
      "metadata": {
        "colab": {
          "base_uri": "https://localhost:8080/"
        },
        "id": "uh8TJ7BU9p3s",
        "outputId": "645b2e5e-e8c2-44b9-fe20-a6a55a2e9a82"
      },
      "outputs": [],
      "source": [
        "global_CC = np.mean(list(CC.values())) # We select the values from the dictionary with .values(), then convert them to a list with list() and compute its mean with np.mean()\n",
        "print(f'The global CC of the network is {global_CC}')"
      ]
    },
    {
      "cell_type": "markdown",
      "metadata": {
        "id": "hrLLBJ_p_6GQ"
      },
      "source": [
        "\n",
        "#### Exercise 🧑‍💻🔨\n",
        "\n",
        "  - Why do you think we found the value we found for the global clustering coefficient? How would you produce a network with a different global CC? Test empirically your conjectured solution by generating a network and computing its global CC."
      ]
    },
    {
      "cell_type": "markdown",
      "metadata": {
        "id": "GOIDfBmwAHQY"
      },
      "source": [
        "### Scale free networks\n",
        "\n",
        "Intuitively, a network is said to be scale-free if we zoom it to a subpart of the network it will look the same as if we zoom out. We can formalize this intuition by noting that the degree distribution $P(k)$ of a scale-free network follows a power law: $P(k) \\propto k^{-\\gamma}$, where typically $\\gamma \\in [2,3]$ . That is, we compute the dree of each node, create an histogram and look at the resulting distribution it will be thick-tailed (ie. decays slower than exponential). \n",
        "\n",
        "<div align=\"center\">\n",
        "<p style=\"text-align:center;\"><img src=\"https://github.com/BergLab/CompNeuro22/blob/main/notebooks/week5/scale-free.png?raw=true\" width=\"500\"/>\n",
        "</div>\n",
        "\n"
      ]
    },
    {
      "cell_type": "markdown",
      "metadata": {
        "id": "gFQrMhm6KRZ3"
      },
      "source": [
        "### Small-world networks\n",
        "\n",
        "A network is defined as having [small world property](https://www.nature.com/articles/30918), when it is having a relatively large clustering coefficient, while still having a small diameter, mathematically this means that the mean shortest path $\\mathcal{l}$ between two nodes grows logarithmically with the size $N$ of the network: $\\mathcal{l} \\propto log(N)$.  Many real world networks are found to have this combination of global accessibility (because of small diameter) and a strong localness (because of high clustering coefficient).\n",
        "\n",
        "\n",
        "<br>\n",
        "<br>\n",
        "<div align=\"center\">\n",
        "<p style=\"text-align:center;\"><img src=\"https://media.springernature.com/full/springer-static/image/art%3A10.1038%2F30918/MediaObjects/41586_1998_Article_BF30918_Fig1_HTML.gif?as=webp\" width=\"500\"/>\n",
        "</div>\n",
        "\n",
        "Both Scale-free and small-world networks are of interest to neuroscience because they are conjectured to carry similarities to networks found in the the brain."
      ]
    },
    {
      "cell_type": "markdown",
      "metadata": {
        "id": "GdqjirxfQPAp"
      },
      "source": [
        "#### Bonus: Evaluating the small-worldness of a network G\n",
        "\n",
        "Two quantities are used to characterize small-world netowrks: $\\sigma$ and $\\omega$. $\\sigma$ is the small-worldness coefficient. \n",
        "$\\sigma = \\frac{C/C_{r}}{L/L_{r}}$ where $C$ and $L$ are respectively the average clustering coefficient and average shortest path length of the network. $C_{r}$ and $L_{r}$ are respectively the average clustering coefficient and average shortest path length of an equivalent random graph. A graph is commonly classified as small-world if $\\sigma>1$.\n",
        "\n",
        "The other way of quantifying small-worldness is to compare how much the graph topology rassambles a random network, that can be quantify with $\\omega = \\frac{L_{r}}{L} - \\frac{C}{C_{l}}$ where C and L are respectively the average clustering coefficient and average shortest path length of G. $L_{r}$ is the average shortest path length of an equivalent random graph and $C_{l}$ is the average clustering coefficient of an equivalent lattice graph. Negative values of $\\omega$ mean G is similar to a lattice whereas positive values mean G is a random graph. Values close to 0 mean that G has small-world characteristics.\n"
      ]
    },
    {
      "cell_type": "markdown",
      "metadata": {
        "id": "vN__JA8UKw90"
      },
      "source": [
        "Let's create a scale free network using NetworkX `nx.scale_free_graph()` and compute it's degree distribution histogram to verify that if follows a power law distribution."
      ]
    },
    {
      "cell_type": "code",
      "execution_count": null,
      "metadata": {
        "colab": {
          "base_uri": "https://localhost:8080/",
          "height": 862
        },
        "id": "5VvyeziPJ6hL",
        "outputId": "a9964133-80ff-4110-b25b-b8bbb6ffa08d"
      },
      "outputs": [],
      "source": [
        "networkSize = 200\n",
        "G = nx.scale_free_graph(n=networkSize)\n",
        "\n",
        "plt.figure(figsize=(12,8))\n",
        "n_color = np.asarray([G.degree()[n] for n in G.nodes()]) #  color nodes based on their degree\n",
        "nx.draw_networkx(G, node_color=n_color, cmap=plt.cm.coolwarm, labels= dict(G.degree()), with_labels=True, node_size=200, alpha=0.8)\n",
        "plt.axis(\"off\")\n",
        "plt.show()\n",
        "\n",
        "\n",
        "# Create sorted list of the degree of each of the nodes\n",
        "degree_sequence = sorted((d for n, d in G.degree()), reverse=True)\n",
        "\n",
        "# Create an histogram \n",
        "plt.figure(figsize=(10,6))\n",
        "plt.hist(degree_sequence, bins = 20, edgecolor='black', linewidth=0.5, rwidth=0.9, align='left')\n",
        "plt.xlabel('Degree $k$', fontsize=12)\n",
        "plt.ylabel('P(k)', fontsize=12)\n",
        "# plt.yscale('log')\n",
        "\n"
      ]
    },
    {
      "cell_type": "markdown",
      "metadata": {
        "id": "o1ilGR32OI3I"
      },
      "source": [
        "NetowrkX also allows us to generate small-world networks:"
      ]
    },
    {
      "cell_type": "code",
      "execution_count": null,
      "metadata": {
        "colab": {
          "base_uri": "https://localhost:8080/",
          "height": 466
        },
        "id": "DL0wLpLSOLMn",
        "outputId": "d10c283a-7e82-4f42-9754-faae544d5e0f"
      },
      "outputs": [],
      "source": [
        "networkSize = 50\n",
        "smallWorldNet = nx.watts_strogatz_graph(n=networkSize, k=5, p=0.1)\n",
        "\n",
        "plt.figure(figsize=(12,8))\n",
        "n_color = np.asarray([smallWorldNet.degree()[n] for n in smallWorldNet.nodes()]) #  color nodes based on their degree\n",
        "nx.draw_networkx(smallWorldNet, node_color=n_color, cmap=plt.cm.coolwarm, labels= dict(smallWorldNet.degree()), with_labels=True, node_size=200, alpha=1)\n",
        "plt.axis(\"off\")\n",
        "plt.show()"
      ]
    },
    {
      "cell_type": "markdown",
      "metadata": {
        "id": "D_sl9MUoOWHS"
      },
      "source": [
        "Bonus: $\\sigma$ and $\\omega$ are two quantities used to charectise small world networks. Let's compare their values for a random and small world network.\n",
        "\n",
        "⚠️ The cell below will take some time to run for big networks ⚠️"
      ]
    },
    {
      "cell_type": "code",
      "execution_count": null,
      "metadata": {
        "colab": {
          "base_uri": "https://localhost:8080/"
        },
        "id": "8KYFWpa2OaK-",
        "outputId": "1b9f06aa-35f5-4098-d6ad-40a75f204010"
      },
      "outputs": [],
      "source": [
        "omega = nx.omega(smallWorldNet)\n",
        "sigma = nx.sigma(smallWorldNet)\n",
        "print(f'Omega: {omega}, Sigma: {sigma}')"
      ]
    },
    {
      "cell_type": "markdown",
      "metadata": {
        "id": "Q6ekbfLlNlp2"
      },
      "source": [
        "#### Exercise 🧑‍💻🔨\n",
        " \n",
        "  - Compute the diameter, the average shortest path and the global CC for a small-worlds network and a scale free one (of the same size) and compare them. Discuss the difference and make you understand what why these quantities are different for those two network topologies.\n"
      ]
    },
    {
      "cell_type": "code",
      "execution_count": null,
      "metadata": {
        "id": "xq9YHVIfOyvC"
      },
      "outputs": [],
      "source": [
        "## Your code here"
      ]
    },
    {
      "cell_type": "markdown",
      "metadata": {
        "id": "BJDhYsMNhXag"
      },
      "source": [
        "### Propagation -or replication- in a network\n",
        "\n",
        "\n",
        "Similarly to how we implemented the SIR Model for Spread of Disease in week 1 by using a matrix to describe the evolution of a viral infection, the adjacency matrix can be used to model **propagation -or replication-** in the network -like a viral infection or information propagation- where we model the state of infection of the people by a state vector $s$ —a vector made of the state of each node: 0 if healthy, 1 if infected— and each propagation step of the virus can be seen as applying the adjacency matrix $M$ to $s$: $s(t+1) = M s(t)$.\n",
        "\n",
        "\n",
        "If the diagonal is zero, it means that whichever thing is transmitted is not preserved by the node, eg. money transmission. For virus transmission for example, diagonal would be one because the virus stays in the person (at least for some time). \n",
        "\n",
        "An useful quantity to describe a propagation phenomena in a network —virus, money, information,..— is the **amplification factor** $A$. If a virus in a node spread to all the adjacent nodes of that node, then the amplification —Assuming transmission between all nodes is bidirectional (undirected network)— is: $A = \\frac{<k^{2}>}{<k>} -1$ where <k> is the average degree of connectivity. \n",
        "\n",
        " - When A > 1 then “disease like” signals tends to be exponentially amplified, and therefore will spread across the entire network, this of course reflects a high connectivity of the network. \n",
        "\n",
        " - For A = 1, on the other hand, perturbations will be marginal spreading, where some will spread and others will “die-out”. In this case we need to have an average of 1 output per 1 input. This case will lead to a power law distribution of clusters size. \n",
        "\n",
        "A can also be used to estimate the **robustness** of the overall connectedness of the network against removal of a fraction f of its nodes, and hence evaluate the robustness of the network (defined as the resistance against the removal of a fraction of its nodes while preserving the propagation process it does, eg. viral propagation). This is useful therefore to know for example how many people we need to vaccinate to stop an epidemic or to build robust transportation or communication networks.\n",
        "\n",
        "\n",
        "### Diffusion in a network\n",
        "\n",
        "If we take the adjacency matrix and replace its non-zero values by a weight representing the strength of the connection we obtain the **transfer matrix** $T$ (provided that the sum of weights for each node is equal to 1). The transfer matrix describe a diffusion process in a network. In a diffusion process we observed a continuous propagation of a given quantity —as opposed to the binary propagation in replication.\n",
        "\n",
        "The eigenvalues of the transfer matrix gives information about how fast the diffusion process expand/contract. "
      ]
    },
    {
      "cell_type": "markdown",
      "metadata": {},
      "source": [
        "### Spectral graph theory\n",
        "\n",
        "As it is always the case when working with matrices, we can derive certain network properties from the connectivity matrix eigenspectrum, this is referred as [Spectral graph theory](https://en.wikipedia.org/wiki/Spectral_graph_theory). We won't elaborate more on this but let us show that it is straightforward to compute the eigenvalues of a graph using NetworkX and numpy:"
      ]
    },
    {
      "cell_type": "code",
      "execution_count": null,
      "metadata": {},
      "outputs": [],
      "source": [
        "import numpy.linalg\n",
        "\n",
        "networkSize = 1000\n",
        "numberOfEdges = 10000\n",
        "G = nx.gnm_random_graph(networkSize, numberOfEdges)\n",
        "\n",
        "L = nx.normalized_laplacian_matrix(G)\n",
        "e = numpy.linalg.eigvals(L.A)\n",
        "print(\"Largest eigenvalue:\", max(e))\n",
        "print(\"Smallest eigenvalue:\", min(e))\n",
        "plt.figure(figsize=(12,9))\n",
        "plt.hist(e, bins=100, edgecolor='black', linewidth=0.5, rwidth=0.5) \n",
        "plt.xlabel('Eigenvalue', fontsize=12)\n",
        "plt.ylabel('Count', fontsize=12)\n",
        "plt.show()\n"
      ]
    }
  ],
  "metadata": {
    "colab": {
      "collapsed_sections": [],
      "name": "week5.ipynb",
      "provenance": []
    },
    "kernelspec": {
      "display_name": "Python 3",
      "name": "python3"
    },
    "language_info": {
      "name": "python"
    }
  },
  "nbformat": 4,
  "nbformat_minor": 0
}
