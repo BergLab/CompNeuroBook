{
 "cells": [
  {
   "cell_type": "markdown",
   "id": "3212ec2e",
   "metadata": {},
   "source": [
    "**⚠️ Before starting, go to the menu and click on: `View` -> `Expand sections`**"
   ]
  },
  {
   "cell_type": "markdown",
   "id": "operating-traffic",
   "metadata": {},
   "source": [
    "## Introduction to Data Analysis with Pandas\n",
    "\n",
    "[Pandas](https://pandas.pydata.org/) is a module for data analysis, manipulation, and visualization.  The basic object of the defined by this module is the [DataFrame](https://pandas.pydata.org/docs/reference/frame.html).  This is a dataset used in this notebook can be obtained from Kaggle on the [classification of stars](https://www.kaggle.com/brsdincer/star-type-classification).  We load the data from a CSV file into a Pandas DataFrame and demonstrate some basic functionality of the module.\n",
    "\n",
    "You can think of **data frames** as tables basically, where each row is an data entry and each of the columns is a property of that entry. In our case, each entry is gonna be a star and the columns some of its properties. We could also use each row to store the properties of some system at different time-points, eg. the concentration of different proteins over time in a cell, in this case each row would be a time-point and each column would be the different proteins. \n",
    "\n",
    "As opposed to numpy arrays, Pandas data frames allow to work with the data by using labels —eg. 'temperature'— rather than having to remember the index numbers associated to the temperature data.\n",
    "\n",
    "Another great aspect of Pandas data frames is that we can mix types of data, eg. numerical variables like the mass of object —eg. 21.2 mg— and categorical data like a cell type —eg. 'cortical neuron'—.\n",
    "\n",
    "In the field of data science the columns of dataset are often referred as 'feature vectors'. If you encounter that term, simply replace it in your mind by 'column'.\n",
    "\n",
    "### Data description\n",
    "\n",
    "Each row represent a star.\n",
    "\n",
    "Feature vectors:\n",
    "\n",
    "- Temperature -- The surface temperature of the star\n",
    "\n",
    "- Luminosity -- Relative luminosity: how bright it is\n",
    "\n",
    "- Size -- Relative radius: how big it is\n",
    "\n",
    "- AM -- [Absolute magnitude](https://en.wikipedia.org/wiki/Absolute_magnitude): another measure of the star luminosity\n",
    "\n",
    "- Color -- General Color of Spectrum\n",
    "\n",
    "- Type -- Red Dwarf, Brown Dwarf, White Dwarf, Main Sequence , Super Giants, Hyper Giants\n",
    "\n",
    "- Spectral_Class -- O,B,A,F,G,K,M / SMASS - [Stellar classification](https://en.wikipedia.org/wiki/Stellar_classification)\n"
   ]
  },
  {
   "cell_type": "markdown",
   "id": "8c94e6b3",
   "metadata": {},
   "source": [
    "### Loading data"
   ]
  },
  {
   "cell_type": "code",
   "execution_count": null,
   "id": "single-honduras",
   "metadata": {},
   "outputs": [],
   "source": [
    "import numpy as np\n",
    "import matplotlib.pyplot as plt\n",
    "import pandas as pd\n",
    "pd.options.mode.chained_assignment = None  # default='warn'"
   ]
  },
  {
   "cell_type": "markdown",
   "id": "efe01978",
   "metadata": {},
   "source": [
    "The DataFrame can be created from a csv file using the read_csv method. \n",
    "If you are working on Colab, you will need to upload the data.\n",
    "\n",
    "Notice that in this case we are loading data from a .csv file, but with Pandas we can load pretty much any kind of data format, including matlab data files."
   ]
  },
  {
   "cell_type": "code",
   "execution_count": null,
   "id": "heavy-month",
   "metadata": {},
   "outputs": [],
   "source": [
    "df = pd.read_csv('Stars.csv')"
   ]
  },
  {
   "cell_type": "markdown",
   "id": "ecfaa016",
   "metadata": {},
   "source": [
    "The head method displays the first few rows of data together with the column headers"
   ]
  },
  {
   "cell_type": "code",
   "execution_count": null,
   "id": "e5b1b7e6",
   "metadata": {},
   "outputs": [],
   "source": [
    "df.head()"
   ]
  },
  {
   "cell_type": "markdown",
   "id": "df359a2c",
   "metadata": {},
   "source": [
    "Specific columns of the DataFrame can be accessed by specifying the column name between square brackets:"
   ]
  },
  {
   "cell_type": "code",
   "execution_count": null,
   "id": "74fd2643",
   "metadata": {},
   "outputs": [],
   "source": [
    "stars_colors = df['Color'] # notice the columns names are case sensitive, ie. 'color' != 'Color'\n",
    "print(stars_colors)"
   ]
  },
  {
   "cell_type": "markdown",
   "id": "aae0364c",
   "metadata": {},
   "source": [
    "The individual entries of the DataFrame (ie. rows) can be accessed using the `iloc` method, specifying the index:"
   ]
  },
  {
   "cell_type": "code",
   "execution_count": null,
   "id": "f50e60b8",
   "metadata": {},
   "outputs": [],
   "source": [
    "print(df.iloc[[0]]) # where 0 is the index of the first entry"
   ]
  },
  {
   "cell_type": "markdown",
   "id": "16a1e22a",
   "metadata": {},
   "source": [
    "The describe method will give basic summary statistics for the numerical variables of each column"
   ]
  },
  {
   "cell_type": "code",
   "execution_count": null,
   "id": "7e810924",
   "metadata": {},
   "outputs": [],
   "source": [
    "summary = df.describe()\n",
    "print(summary)"
   ]
  },
  {
   "cell_type": "markdown",
   "id": "51b7cfa4",
   "metadata": {},
   "source": [
    "We can also call methods of the individual columns to get summary information.\n",
    "The column objects (such as df['Temperature']) are called Series"
   ]
  },
  {
   "cell_type": "code",
   "execution_count": null,
   "id": "7fdef18c",
   "metadata": {},
   "outputs": [],
   "source": [
    "print(\"Mean Temperature is:\",df['Temperature'].mean())\n",
    "print(\"Max Temperature is:\",df['Temperature'].max())"
   ]
  },
  {
   "cell_type": "markdown",
   "id": "bbfffe3f",
   "metadata": {},
   "source": [
    "### Visualize single variable data"
   ]
  },
  {
   "cell_type": "markdown",
   "id": "aa36ab1e",
   "metadata": {},
   "source": [
    "The Series objects (columns) have plot methods as well as the numerical summary methods."
   ]
  },
  {
   "cell_type": "code",
   "execution_count": null,
   "id": "8b3c7a49",
   "metadata": {},
   "outputs": [],
   "source": [
    "df['Temperature'].plot.line(figsize=(10,7))"
   ]
  },
  {
   "cell_type": "markdown",
   "id": "6d02777a",
   "metadata": {},
   "source": [
    "Pandas is interoperable with matplotlib and numpy, so for instance if we want to add labels to the figure above we simply add the following lines from matplotlib:"
   ]
  },
  {
   "cell_type": "code",
   "execution_count": null,
   "id": "605dce17",
   "metadata": {},
   "outputs": [],
   "source": [
    "df['Temperature'].plot.line(figsize=(10,7));\n",
    "plt.xlabel('Star index')\n",
    "plt.ylabel('Star Temperature')"
   ]
  },
  {
   "cell_type": "markdown",
   "id": "185cabb2",
   "metadata": {},
   "source": [
    "The above is equivalent to:"
   ]
  },
  {
   "cell_type": "code",
   "execution_count": null,
   "id": "a8bbb266",
   "metadata": {},
   "outputs": [],
   "source": [
    "df['Temperature'].plot.line(xlabel = 'Star index', ylabel='Temperature', figsize=(10,7))"
   ]
  },
  {
   "cell_type": "markdown",
   "id": "a7f9ad84",
   "metadata": {},
   "source": [
    "#### Exercise\n",
    "\n",
    "- Check Pandas [series.plot documentation](https://pandas.pydata.org/docs/reference/api/pandas.Series.plot.html) and plot the temperature of the different stars as an histogram.\n",
    "- By observing at the histogram, what's the most common temperature for stars?"
   ]
  },
  {
   "cell_type": "code",
   "execution_count": null,
   "id": "eac44854",
   "metadata": {},
   "outputs": [],
   "source": [
    "## Your code here"
   ]
  },
  {
   "cell_type": "markdown",
   "id": "0a346f8f",
   "metadata": {},
   "source": [
    "### Scatter plots for multiple variables\n",
    "\n",
    "A typical problem in any field is to understand how some properties relate others, eg. are two properties independent or correlated to each other? We can quickly explore the correlations in some data frame by using scatter plots and plotting some properties against others:"
   ]
  },
  {
   "cell_type": "code",
   "execution_count": null,
   "id": "f9dd229b",
   "metadata": {},
   "outputs": [],
   "source": [
    "df.plot.scatter('Temperature','Luminosity', figsize=(10,7))"
   ]
  },
  {
   "cell_type": "markdown",
   "id": "cb3589e9",
   "metadata": {},
   "source": [
    "We notice that the values of the Luminosity go from very small to very big values:"
   ]
  },
  {
   "cell_type": "code",
   "execution_count": null,
   "id": "3ee5e001",
   "metadata": {},
   "outputs": [],
   "source": [
    "print(df['Luminosity'].min())\n",
    "print(df['Luminosity'].max())"
   ]
  },
  {
   "cell_type": "markdown",
   "id": "d9491016",
   "metadata": {},
   "source": [
    "In this situations where we are plotting over a very long range of values, it's useful to change the scale to a logarithmic one:"
   ]
  },
  {
   "cell_type": "code",
   "execution_count": null,
   "id": "a3c9d461",
   "metadata": {},
   "outputs": [],
   "source": [
    "ax = df.plot.scatter('Temperature','Luminosity', figsize=(10,7))\n",
    "plt.yscale('log')"
   ]
  },
  {
   "cell_type": "markdown",
   "id": "78e590d6",
   "metadata": {},
   "source": [
    "#### Exercise\n",
    "- Make scatter plots of the different star features.\n",
    "- Two of the feature columns in the data are monotonically correlated, find them. # Hint: you may need to use log scale to better see a linear correlation."
   ]
  },
  {
   "cell_type": "code",
   "execution_count": null,
   "id": "b8e68c5d",
   "metadata": {},
   "outputs": [],
   "source": [
    "## Your code here"
   ]
  },
  {
   "cell_type": "markdown",
   "id": "18f7c6ac",
   "metadata": {},
   "source": [
    "### Sort the data\n",
    "\n",
    "We can sort the data using the `sort_values` method:"
   ]
  },
  {
   "cell_type": "code",
   "execution_count": null,
   "id": "11c10df7",
   "metadata": {},
   "outputs": [],
   "source": [
    "sorted_data = df.sort_values('Temperature',ascending=True)\n",
    "sorted_data.head()"
   ]
  },
  {
   "cell_type": "markdown",
   "id": "45a3df08",
   "metadata": {},
   "source": [
    "### Describe categorical data"
   ]
  },
  {
   "cell_type": "markdown",
   "id": "82f76792",
   "metadata": {},
   "source": [
    "We can describe the categorical variable 'Color'.  In this case we get different results than when we used describe on a numerical value."
   ]
  },
  {
   "cell_type": "code",
   "execution_count": null,
   "id": "26a0dfe7",
   "metadata": {},
   "outputs": [],
   "source": [
    "print(df['Color'].describe())"
   ]
  },
  {
   "cell_type": "markdown",
   "id": "274b157f",
   "metadata": {},
   "source": [
    "We look at the unique values of 'Color'"
   ]
  },
  {
   "cell_type": "code",
   "execution_count": null,
   "id": "86b71bd0",
   "metadata": {},
   "outputs": [],
   "source": [
    "print(df['Color'].unique())"
   ]
  },
  {
   "cell_type": "markdown",
   "id": "d0c2826c",
   "metadata": {},
   "source": [
    "#### Exercise\n",
    "- Create a histogram to visualize how many stars of each color there are."
   ]
  },
  {
   "cell_type": "code",
   "execution_count": null,
   "id": "31537b65",
   "metadata": {},
   "outputs": [],
   "source": [
    "## Your code here"
   ]
  },
  {
   "cell_type": "markdown",
   "id": "45f47125",
   "metadata": {},
   "source": [
    "### Filter and split data "
   ]
  },
  {
   "cell_type": "markdown",
   "id": "391b047f",
   "metadata": {},
   "source": [
    "Sometimes we want to select sections of the data based on their values, we can easily do so with pandas. Let's find the set of stars whose temperature is higher than 10000 K. We first create a *boolean array* for the condition, that is, a vector which associate a true or false value to each star with regard to the filtering condition, in our case case, it will give a true value if the start temperature is higher than 10000 K and false otherwise:"
   ]
  },
  {
   "cell_type": "code",
   "execution_count": null,
   "id": "08fcd9e7",
   "metadata": {},
   "outputs": [],
   "source": [
    "hot_stars_boolean_vector = df['Temperature'] > 10000\n",
    "print(hot_stars_boolean_vector)"
   ]
  },
  {
   "cell_type": "markdown",
   "id": "1dbd1c55",
   "metadata": {},
   "source": [
    "In python a true value is represented with the number 1 and a false value with the number zero, that means that if we want to know hot many stars are hotter than 10000 K we can simply sum up our boolean vector:"
   ]
  },
  {
   "cell_type": "code",
   "execution_count": null,
   "id": "1477745c",
   "metadata": {},
   "outputs": [],
   "source": [
    "number_of_hot_stars = np.sum(hot_stars_boolean_vector)\n",
    "print(f'There are {number_of_hot_stars} hot stars in the dataset')"
   ]
  },
  {
   "cell_type": "markdown",
   "id": "5acfcaaa",
   "metadata": {},
   "source": [
    "It works the same for categorical data. Let's find out the number of super giants stars:"
   ]
  },
  {
   "cell_type": "code",
   "execution_count": null,
   "id": "53e14bb7",
   "metadata": {},
   "outputs": [],
   "source": [
    "super_giants_boolean_vector = df['Type'] == 'Super Giants' \n",
    "nb_super_giants = np.sum(super_giants_boolean_vector)\n",
    "print(f'There are {nb_super_giants} super giants stars in the dataset')"
   ]
  },
  {
   "cell_type": "markdown",
   "id": "a788e5e4",
   "metadata": {},
   "source": [
    "If we are only interested in exploring the properties of super giants stars (because our dataset is too big or because white dwarfs are lame), we can get select only the data of the super giants stars using the boolean vector we just created:"
   ]
  },
  {
   "cell_type": "code",
   "execution_count": null,
   "id": "a27cbb3c",
   "metadata": {},
   "outputs": [],
   "source": [
    "df_with_only_super_giants = df[super_giants_boolean_vector]\n",
    "print(df_with_only_super_giants)"
   ]
  },
  {
   "cell_type": "markdown",
   "id": "22deb695",
   "metadata": {},
   "source": [
    "Wait, wait. What if we want we want to filter for two conditions, say, we want to keep only the very hoy super giant stars? Low and behold, we simply need to apply both conditions:"
   ]
  },
  {
   "cell_type": "code",
   "execution_count": null,
   "id": "2c1cf866",
   "metadata": {},
   "outputs": [],
   "source": [
    "hot_super_giants = df[super_giants_boolean_vector & hot_stars_boolean_vector]\n",
    "print(f\"There are {hot_super_giants.shape[0]} super hot giants\")\n",
    "print(hot_super_giants)"
   ]
  },
  {
   "cell_type": "markdown",
   "id": "bad08fcb",
   "metadata": {},
   "source": [
    "We can apply conditions directly on the data frame:"
   ]
  },
  {
   "cell_type": "code",
   "execution_count": null,
   "id": "4a684a11",
   "metadata": {},
   "outputs": [],
   "source": [
    "hot_super_giants = df[(df['Type'] == 'Super Giants') & (df['Temperature'] > 10000)]\n",
    "print(f\"\\nThere are {hot_super_giants.shape[0]} super hot giants\\n\")\n",
    "print(hot_super_giants)"
   ]
  },
  {
   "cell_type": "markdown",
   "id": "e63041dd",
   "metadata": {},
   "source": [
    "#### Exercise\n",
    "\n",
    "  - Find how many 'White Dwarf' have a surface temperature between 5000 K and 10000 K\n",
    "  - Find the mean surface temperature of the White Dwarfs\n",
    "  - How many times bigger are Super Giants stars compared to White Dwarfs?\n",
    "  - What's the variance in the size of Super Giant stars?"
   ]
  },
  {
   "cell_type": "code",
   "execution_count": null,
   "id": "a1e3195c",
   "metadata": {},
   "outputs": [],
   "source": [
    "## Your code here"
   ]
  },
  {
   "cell_type": "markdown",
   "id": "1034738c",
   "metadata": {},
   "source": [
    "### Creating new data frames and adding new columns to data frames"
   ]
  },
  {
   "cell_type": "markdown",
   "id": "da8bc7cc",
   "metadata": {},
   "source": [
    "We can create a new data frame from another one with only some of the original data frame columns. Let's create a new data frame with only the temperature and type columns:"
   ]
  },
  {
   "cell_type": "code",
   "execution_count": null,
   "id": "db163449",
   "metadata": {},
   "outputs": [],
   "source": [
    "new_df = df[['Temperature','Type']]\n",
    "print(new_df.head()) # It's always good practice to print the head of the data frames to make sure we're doing things right"
   ]
  },
  {
   "cell_type": "markdown",
   "id": "073987c3",
   "metadata": {},
   "source": [
    "We may also want to add new columns to an existing data frame, for instance, if we incorporate new data from a different file or we calculate new quantities based on the previous data. Here we are adding a new column whose values are the inverse of the luminosity:"
   ]
  },
  {
   "cell_type": "code",
   "execution_count": null,
   "id": "0cdd7bb0",
   "metadata": {},
   "outputs": [],
   "source": [
    "df['Inverse Luminosity'] = 1 / df['Luminosity']"
   ]
  },
  {
   "cell_type": "markdown",
   "id": "ecca8dfd",
   "metadata": {},
   "source": [
    "#### Exercise\n",
    "- Add a new feature vector to the new data frame with the volume of each star. # Hint: Notice the column 'Size' is the radius $R$ of each star and that the volume of a sphere is $\\frac{4}{3} \\pi R^{3}$\n",
    "- (Bonus Exercise) Add a new feature vector to the new data frame with the mass of each star. # Hint: The mass $m$ of an object is equal to the product of the volume $V$ by its density $\\rho$, that is,  $m = \\rho V $. Notice that different types of stars have different densities so you'll have to use the filtering as we did above: $\\rho_{Dwarfs} = 10^{5} g/cc$,  $\\rho_{Giants} = 10^{-8} g/cc$,  $\\rho_{Main\\ sequence} = 1 g/cc$. *You are welcome to ignore the units, the goal is that you practice how to apply operations to a subset of data frame.*"
   ]
  },
  {
   "cell_type": "code",
   "execution_count": null,
   "id": "a9147333",
   "metadata": {},
   "outputs": [],
   "source": [
    "## Your code here"
   ]
  },
  {
   "cell_type": "markdown",
   "id": "40cc681b",
   "metadata": {},
   "source": [
    "### Box plot of numerical data sorted by category"
   ]
  },
  {
   "cell_type": "markdown",
   "id": "07b2a685",
   "metadata": {},
   "source": [
    "Let's visualise what is the range of temperature of the different stars based on their temperature. To do so, we first select the features we want to visualise and then call a box plot:"
   ]
  },
  {
   "cell_type": "code",
   "execution_count": null,
   "id": "870920b4",
   "metadata": {},
   "outputs": [],
   "source": [
    "# The boxplot argument 'by' will split the plot over the variable given.\n",
    "df[['Temperature','Type']].boxplot(by='Type', figsize=(10,7))"
   ]
  },
  {
   "cell_type": "markdown",
   "id": "54c524e7",
   "metadata": {},
   "source": [
    "#### Exercise\n",
    "- Make a similar figure as the above but displaying the range of volumes of the different start types"
   ]
  },
  {
   "cell_type": "code",
   "execution_count": null,
   "id": "c5b5e956",
   "metadata": {},
   "outputs": [],
   "source": [
    "## Your code here"
   ]
  },
  {
   "cell_type": "markdown",
   "id": "79f64281",
   "metadata": {},
   "source": [
    "### Multi-plot figures\n",
    "\n",
    "Now that we know how to filter data, let's make some figures. We construct a figure with 4 subplots:"
   ]
  },
  {
   "cell_type": "code",
   "execution_count": null,
   "id": "22463efd",
   "metadata": {},
   "outputs": [],
   "source": [
    "fig, ax = plt.subplots(2,2)\n",
    "fig.set_figwidth(14)\n",
    "fig.set_figheight(10)\n",
    "\n",
    "## Plot the data.  ax[i,j] references the the Axes in row i column j\n",
    "df.plot.scatter('Temperature','Luminosity',color='xkcd:rust',alpha=0.7,ax=ax[0,0])\n",
    "df.plot.scatter('Temperature','Size',color='xkcd:blurple',alpha=0.7,ax=ax[0,1])\n",
    "df.plot.scatter('Temperature','A_M',color='xkcd:slate blue',alpha=0.7,ax=ax[1,0])\n",
    "df.plot.scatter('Luminosity','Size',color='xkcd:pumpkin',alpha=0.7,ax=ax[1,1])"
   ]
  },
  {
   "cell_type": "markdown",
   "id": "c6e84137",
   "metadata": {},
   "source": [
    "We can see in the plot of $A_M$ versus Temperature, that there is a cluster of points ($A_M>9$,Temperature $>5000$) where the variables appear to have a strong correlation.  We might want to isolate and study that particular subset of the data by extracting it to a different DataFrame.\n",
    "\n",
    "Let's isolate it into the variable `df_TAM` and plot it in a different color:"
   ]
  },
  {
   "cell_type": "code",
   "execution_count": null,
   "id": "3e2c5eb9",
   "metadata": {},
   "outputs": [],
   "source": [
    "df_AM = df[df['A_M'] > 9]\n",
    "df_TAM = df_AM[df_AM['Temperature'] > 5000]\n",
    "\n",
    "## Plot the subset with the original\n",
    "ax = df.plot.scatter('Temperature','A_M',color='xkcd:slate blue',alpha=0.8)\n",
    "df_TAM.plot.scatter('Temperature','A_M',color='xkcd:red',ax=ax,alpha=0.7)"
   ]
  },
  {
   "cell_type": "markdown",
   "id": "f00bc6ca",
   "metadata": {},
   "source": [
    "Let's print the statistics of this subset of data"
   ]
  },
  {
   "cell_type": "code",
   "execution_count": null,
   "id": "2d380557",
   "metadata": {},
   "outputs": [],
   "source": [
    "print(df_TAM.describe())"
   ]
  },
  {
   "cell_type": "markdown",
   "id": "5afea261",
   "metadata": {},
   "source": [
    "### Linear Regression\n",
    "\n",
    "Let's finish this notebook by doing a liner regression on the data. \n",
    "\n",
    "A linear regression consist in a linear model than relates one variable to another variable. For instance, the temperature of a star to it luminosity. Linear models have the advantage of being easily interpreted —you can look at the model and figure out what's going on. On the other hand, they can not model non-linear relations, and God had the poor taste of making natural phenomena *very* non-linear. On the Machine learning notebooks, we'll learn how to train models that can deal with non-linear dependencies."
   ]
  },
  {
   "cell_type": "markdown",
   "id": "03a9c826",
   "metadata": {},
   "source": [
    "\n",
    "Since the data in the high absolute magnitude $A_M$, high-Temperature subset seem to be strongly correlated, we might fit linear model. To do this we will import the $\\texttt{linregress}$ function from the $\\texttt{stats}$ module in SciPy."
   ]
  },
  {
   "cell_type": "code",
   "execution_count": null,
   "id": "8ae018bc",
   "metadata": {},
   "outputs": [],
   "source": [
    "from scipy.stats import linregress\n",
    "\n",
    "linear_model = linregress(df_TAM['Temperature'],df_TAM['A_M'])"
   ]
  },
  {
   "cell_type": "markdown",
   "id": "8eadb77e",
   "metadata": {},
   "source": [
    "Let's plot the regression line together with the data."
   ]
  },
  {
   "cell_type": "code",
   "execution_count": null,
   "id": "b0d3c0ae",
   "metadata": {},
   "outputs": [],
   "source": [
    "m = linear_model.slope\n",
    "b = linear_model.intercept\n",
    "\n",
    "x = np.linspace(5000,25000,5) # Range of temperatures\n",
    "y = m*x + b\n",
    "ax = df_TAM.plot.scatter('Temperature','A_M',color='xkcd:slate blue',s=40,edgecolor='black',alpha=0.8)\n",
    "ax.plot(x,y,color='green',ls='dashed')"
   ]
  },
  {
   "cell_type": "markdown",
   "id": "13c71a26",
   "metadata": {},
   "source": [
    "The model object that was produced by $\\texttt{linregress}$ also contains the correlation coefficient, pvalue, and standard error."
   ]
  },
  {
   "cell_type": "code",
   "execution_count": null,
   "id": "1fc0270f",
   "metadata": {},
   "outputs": [],
   "source": [
    "print(\"Correlation coefficient:\",linear_model.rvalue)\n",
    "print(\"pvalue for null hypothesis of slope = 0:\",linear_model.pvalue)\n",
    "print(\"Standard error of the esimated gradient:\",linear_model.stderr)"
   ]
  },
  {
   "cell_type": "markdown",
   "id": "7fde068d",
   "metadata": {},
   "source": [
    "### The Hertzsprung-Russell Diagram"
   ]
  },
  {
   "cell_type": "markdown",
   "id": "468db70b",
   "metadata": {},
   "source": [
    "The Hertzsprung-Russell Diagram is a scatter plot of stars showing the relationship between the stars' absolute magnitudes or luminosities versus their temperatures.\n",
    "\n",
    "<p style=\"text-align:center;\"><img src=\"https://upload.wikimedia.org/wikipedia/commons/7/78/H-R_diagram_-edited-3.gif\" width=\"500\"/>"
   ]
  },
  {
   "cell_type": "markdown",
   "id": "61c6b4db",
   "metadata": {},
   "source": [
    "Let's see if we can obtain something similar from our data:\n",
    "\n",
    "#### Exercise\n",
    "- Make a scatter plot from our star data. Plot each star type 'Super Giants', 'Main sequence' and 'White Dwarf' in different colours.\n",
    "  \n",
    "- Can you observe similar star clusters? # Hint: You might need to use logarithmic scales for the axis and reverse the direction of the temperature axis."
   ]
  },
  {
   "cell_type": "code",
   "execution_count": null,
   "id": "d3eea0d1",
   "metadata": {},
   "outputs": [],
   "source": [
    "## Your code here"
   ]
  }
 ],
 "metadata": {
  "kernelspec": {
   "display_name": "Python 3",
   "language": "python",
   "name": "python3"
  },
  "language_info": {
   "codemirror_mode": {
    "name": "ipython",
    "version": 3
   },
   "file_extension": ".py",
   "mimetype": "text/x-python",
   "name": "python",
   "nbconvert_exporter": "python",
   "pygments_lexer": "ipython3",
   "version": "3.7.3"
  }
 },
 "nbformat": 4,
 "nbformat_minor": 5
}
